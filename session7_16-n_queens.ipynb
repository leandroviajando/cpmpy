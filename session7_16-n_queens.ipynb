{
 "cells": [
  {
   "cell_type": "markdown",
   "metadata": {},
   "source": [
    "# Additional Modelling Challenges\n",
    "\n",
    "## N-Queens\n",
    "\n",
    "The N-Queens problem is a classic combinatorial problem that involves placing `n` chess queens on an `n x n` chess board so that no two queens threaten each other.\n",
    "\n",
    "This means that no two queens can be in the same row, the same column, or the same diagonal.\n",
    "\n",
    "The goal is to find all possible arrangements of the queens on the board."
   ]
  },
  {
   "cell_type": "code",
   "execution_count": 1,
   "metadata": {},
   "outputs": [
    {
     "name": "stdout",
     "output_type": "stream",
     "text": [
      "[[0 0 1 0]\n",
      " [1 0 0 0]\n",
      " [0 0 0 1]\n",
      " [0 1 0 0]]\n",
      "[[0 1 0 0]\n",
      " [0 0 0 1]\n",
      " [1 0 0 0]\n",
      " [0 0 1 0]]\n"
     ]
    },
    {
     "data": {
      "text/plain": [
       "2"
      ]
     },
     "execution_count": 1,
     "metadata": {},
     "output_type": "execute_result"
    }
   ],
   "source": [
    "import cpmpy as cp\n",
    "\n",
    "# Parameters\n",
    "n = 4\n",
    "\n",
    "# Decision variables\n",
    "board = cp.intvar(0, 1, shape=(n, n))  # 0 = no queen, 1 = queen\n",
    "\n",
    "model = cp.Model()\n",
    "\n",
    "# Constraints\n",
    "# N queens\n",
    "model += board.sum() == n\n",
    "\n",
    "for row in range(n):\n",
    "    for col in range(n):\n",
    "        for other_pos in range(n):\n",
    "            # no two queens in the same row\n",
    "            if other_pos != row:\n",
    "                model += (board[row, col] == 1).implies(board[other_pos, col] == 0)\n",
    "            # no two queens in the same column\n",
    "            if other_pos != col:\n",
    "                model += (board[row, col] == 1).implies(board[row, other_pos] == 0)\n",
    "\n",
    "        for incr in range(-n+1, n):\n",
    "            # no two queens on the same diagonal\n",
    "            if incr != 0:\n",
    "                diag1_row, diag1_col = row + incr, col + incr\n",
    "                diag2_row, diag2_col = row + incr, col - incr\n",
    "                \n",
    "                if 0 <= diag1_row < n and 0 <= diag1_col < n:\n",
    "                    model += (board[row, col] == 1).implies(board[diag1_row, diag1_col] == 0)\n",
    "                if 0 <= diag2_row < n and 0 <= diag2_col < n:\n",
    "                    model += (board[row, col] == 1).implies(board[diag2_row, diag2_col] == 0)\n",
    "\n",
    "model.solveAll(display=board)"
   ]
  },
  {
   "cell_type": "code",
   "execution_count": 2,
   "metadata": {},
   "outputs": [
    {
     "name": "stdout",
     "output_type": "stream",
     "text": [
      "[[0 1 0 0]\n",
      " [0 0 0 1]\n",
      " [1 0 0 0]\n",
      " [0 0 1 0]]\n"
     ]
    },
    {
     "data": {
      "text/plain": [
       "1"
      ]
     },
     "execution_count": 2,
     "metadata": {},
     "output_type": "execute_result"
    }
   ],
   "source": [
    "# break symmetry by requiring first queen to be in first half of first row\n",
    "model += board[0, :n//2].sum() >= 1\n",
    "\n",
    "model.solveAll(display=board)"
   ]
  },
  {
   "cell_type": "markdown",
   "metadata": {},
   "source": [
    "Backtracking Search:"
   ]
  },
  {
   "cell_type": "code",
   "execution_count": 3,
   "metadata": {},
   "outputs": [],
   "source": [
    "import numpy as np\n",
    "\n",
    "\n",
    "def conflicts(row: int, col: int, board: np.ndarray) -> bool:\n",
    "    if board.sum() == 0:\n",
    "        return False\n",
    "\n",
    "    n = len(board)\n",
    "\n",
    "    if board[row, :].sum() != 0:\n",
    "        return True\n",
    "    if board[:, col].sum() != 0:\n",
    "        return True\n",
    "\n",
    "    lu_diag_row, lu_diag_col = row - 1, col - 1\n",
    "    while lu_diag_row >= 0 and lu_diag_col >= 0:\n",
    "        if board[lu_diag_row, lu_diag_col] != 0:\n",
    "            return True\n",
    "        lu_diag_row -= 1\n",
    "        lu_diag_col -= 1\n",
    "\n",
    "    ll_diag_row, ll_diag_col = row + 1, col - 1\n",
    "    while ll_diag_row < n and ll_diag_col >= 0:\n",
    "        if board[ll_diag_row, ll_diag_col] != 0:\n",
    "            return True\n",
    "        ll_diag_row += 1\n",
    "        ll_diag_col -= 1\n",
    "\n",
    "    ru_diag_row, ru_diag_col = row - 1, col + 1\n",
    "    while ru_diag_row >= 0 and ru_diag_col < n:\n",
    "        if board[ru_diag_row, ru_diag_col] != 0:\n",
    "            return True\n",
    "        ru_diag_row -= 1\n",
    "        ru_diag_col += 1\n",
    "\n",
    "    rl_diag_row, rl_diag_col = row + 1, col + 1\n",
    "    while rl_diag_row < n and rl_diag_col < n:\n",
    "        if board[rl_diag_row, rl_diag_col] != 0:\n",
    "            return True\n",
    "        rl_diag_row += 1\n",
    "        rl_diag_col += 1\n",
    "\n",
    "    return False"
   ]
  },
  {
   "cell_type": "code",
   "execution_count": 4,
   "metadata": {},
   "outputs": [
    {
     "name": "stdout",
     "output_type": "stream",
     "text": [
      "[[0. 0. 0. 1. 0. 0. 0. 0. 0. 0.]\n",
      " [0. 0. 0. 0. 0. 0. 1. 0. 0. 0.]\n",
      " [0. 0. 0. 0. 0. 0. 0. 0. 1. 0.]\n",
      " [0. 1. 0. 0. 0. 0. 0. 0. 0. 0.]\n",
      " [0. 0. 0. 0. 0. 1. 0. 0. 0. 0.]\n",
      " [1. 0. 0. 0. 0. 0. 0. 0. 0. 0.]\n",
      " [0. 0. 1. 0. 0. 0. 0. 0. 0. 0.]\n",
      " [0. 0. 0. 0. 1. 0. 0. 0. 0. 0.]\n",
      " [0. 0. 0. 0. 0. 0. 0. 1. 0. 0.]\n",
      " [0. 0. 0. 0. 0. 0. 0. 0. 0. 1.]]\n"
     ]
    }
   ],
   "source": [
    "from typing import Optional, Sequence, Tuple\n",
    "\n",
    "\n",
    "def n_queens(n: int, *, board: Optional[np.ndarray] = None, frontier: Optional[Sequence[Tuple[int, int]]] = None) -> np.ndarray:\n",
    "    if board is None:\n",
    "        board = np.zeros((n, n))\n",
    "    elif len(board) != n:\n",
    "        raise ValueError(f\"{len(board) = } != {n = }\")\n",
    "    if not frontier:\n",
    "        frontier = [(n-i-1, n-j-1) for i in range(n) for j in range(n)]\n",
    "\n",
    "    for row, col in frontier:\n",
    "        if not conflicts(row, col, board):\n",
    "            board[row, col] = 1\n",
    "\n",
    "            new_frontier = [(r, c) for r, c in frontier if r != row and c != col]\n",
    "            if (res := n_queens(n, board=board, frontier=new_frontier)).sum() == n:\n",
    "                return res\n",
    "\n",
    "            board[row, col] = 0\n",
    "\n",
    "    return board\n",
    "\n",
    "\n",
    "print(n_queens(10))"
   ]
  }
 ],
 "metadata": {
  "kernelspec": {
   "display_name": ".venv",
   "language": "python",
   "name": "python3"
  },
  "language_info": {
   "codemirror_mode": {
    "name": "ipython",
    "version": 3
   },
   "file_extension": ".py",
   "mimetype": "text/x-python",
   "name": "python",
   "nbconvert_exporter": "python",
   "pygments_lexer": "ipython3",
   "version": "3.11.9"
  }
 },
 "nbformat": 4,
 "nbformat_minor": 2
}
