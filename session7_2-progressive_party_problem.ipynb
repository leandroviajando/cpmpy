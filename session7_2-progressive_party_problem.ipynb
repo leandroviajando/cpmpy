{
 "cells": [
  {
   "cell_type": "markdown",
   "metadata": {},
   "source": [
    "# Additional Modelling Challenges\n",
    "\n",
    "## Progressive Party Problem (PPP)\n",
    "\n",
    "1. Every boat can only hold a limited number of people at a time - the boats' capacities and crew sizes are different.\n",
    "2. Certain boats are to be designated hosts.\n",
    "3. The remaining boats visit the host boats for several successive periods.\n",
    "4. The total number of people aboard a boat, including the host crew and guest crews, must not exceed the capacity.\n",
    "5. A guest boat cannot revisit a host.\n",
    "6. Guest crews cannot meet more than once.\n",
    "\n",
    "Find the visit schedule and host designations that minimises the number of host boats."
   ]
  },
  {
   "cell_type": "code",
   "execution_count": 1,
   "metadata": {},
   "outputs": [
    {
     "name": "stdout",
     "output_type": "stream",
     "text": [
      "Capacities: [128, 116, 68, 46, 81, 66, 119, 52, 76, 91]\n",
      "Crew sizes: [12, 11, 6, 4, 8, 6, 11, 5, 7, 9]\n",
      "Solution found!\n",
      "6 hosts:  [0, 1, 4, 6, 8, 9]\n",
      "Schedule:\n",
      " [[0 0 0 0 0]\n",
      " [1 1 1 1 1]\n",
      " [8 0 1 9 6]\n",
      " [4 1 6 0 9]\n",
      " [4 4 4 4 4]\n",
      " [0 6 8 1 4]\n",
      " [6 6 6 6 6]\n",
      " [1 4 9 6 8]\n",
      " [8 8 8 8 8]\n",
      " [9 9 9 9 9]]\n"
     ]
    }
   ],
   "source": [
    "import cpmpy as cp\n",
    "import random\n",
    "\n",
    "random.seed(0)\n",
    "\n",
    "# Parameters\n",
    "n_boats = 10\n",
    "n_periods = 5\n",
    "\n",
    "# 1. Every boat can only hold a limited number of people at a time - the boats' capacities and crew sizes are different.\n",
    "capacity = random.choices(range(10, 150), k=n_boats)\n",
    "crew_size = [c // 10 for c in capacity]\n",
    "print(\"Capacities:\", capacity)\n",
    "print(\"Crew sizes:\", crew_size)\n",
    "\n",
    "model = cp.Model()\n",
    "\n",
    "# Decision variables\n",
    "is_host = cp.boolvar(shape=n_boats)\n",
    "schedule = cp.intvar(0, n_boats-1, shape=(n_boats, n_periods))\n",
    "\n",
    "# Constraints\n",
    "for i in range(n_boats):\n",
    "    for j in range(n_periods):\n",
    "        # 2. Certain boats are to be designated hosts.\n",
    "        model += is_host[i].implies(schedule[i, j] == i)\n",
    "\n",
    "        # 3. The remaining boats visit the host boats for several successive periods.\n",
    "        model += [(~is_host[i]).implies(schedule[k, j] != i) for k in range(n_boats)]\n",
    "\n",
    "        # 4. The total number of people aboard a boat, including the host crew and guest crews, must not exceed the capacity.\n",
    "        # Assumption: a guest boat's capacity already includes its crew; else its own capacity would be too small for its guests and crew.\n",
    "        # A host boat on the other hand is assumed to have only a crew, and no guests of its own - since it is a host boat.\n",
    "        guest_boat_capacities_incl_crews = [(k != i and schedule[k, j] == i) * capacity[k] for k in range(n_boats)]\n",
    "        model += is_host[i].implies(cp.sum([crew_size[i]] + guest_boat_capacities_incl_crews) <= capacity[i])\n",
    "\n",
    "    # 5. A guest boat cannot revisit a host.\n",
    "    model += (~is_host[i]).implies(cp.AllDifferent(schedule[i, :]))\n",
    "\n",
    "    # 6. Guest crews cannot meet more than once.\n",
    "    for k in range(n_boats):\n",
    "        model += ((~is_host[i]) & (~is_host[k]) & (i != k)).implies(cp.sum(schedule[i, :] == schedule[k, :]) <= 1)\n",
    "\n",
    "# Find the visit schedule and host designations that minimises the number of host boats.\n",
    "model.minimize(is_host.sum())\n",
    "\n",
    "if model.solve():\n",
    "    print(\"Solution found!\")\n",
    "    print(f\"{is_host.value().sum()} hosts: \", [idx for idx, val in enumerate(is_host.value().tolist()) if val is True])\n",
    "    print(\"Schedule:\\n\", schedule.value())\n",
    "else:\n",
    "    print(\"No solution found.\")"
   ]
  }
 ],
 "metadata": {
  "kernelspec": {
   "display_name": ".venv",
   "language": "python",
   "name": "python3"
  },
  "language_info": {
   "codemirror_mode": {
    "name": "ipython",
    "version": 3
   },
   "file_extension": ".py",
   "mimetype": "text/x-python",
   "name": "python",
   "nbconvert_exporter": "python",
   "pygments_lexer": "ipython3",
   "version": "3.11.9"
  }
 },
 "nbformat": 4,
 "nbformat_minor": 2
}
