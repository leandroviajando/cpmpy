{
 "cells": [
  {
   "cell_type": "markdown",
   "metadata": {},
   "source": [
    "# Additional Modelling Challenges\n",
    "\n",
    "## Traffic Lights\n",
    "\n",
    "Consider a four-way traffic junction with eight traffic lights.\n",
    "\n",
    "- Four of the traffic lights are for the vehicles and can be represented by the variables V1 to V4 with domains {r,g,y} (for red, green and yellow).\n",
    "- The other four traffic lights are for the pedestrians and can be represented by the variables P1 to P4 with domains {r,g}.\n",
    "\n",
    "Model the problem and find all solutions such that no collisions occur, and the amount of green lights is maximized."
   ]
  },
  {
   "cell_type": "code",
   "execution_count": 1,
   "metadata": {},
   "outputs": [
    {
     "name": "stdout",
     "output_type": "stream",
     "text": [
      "Solution found!\n",
      "[1 2 0 1 2 0 1 2 0 1 2 0]\n",
      "[0 0 1 0 0 1 0 0 1 0 0 1]\n",
      "[0 1 2 0 1 2 0 1 2 0 1 2]\n",
      "[1 0 0 1 0 0 1 0 0 1 0 0]\n",
      "[1 2 0 1 2 0 1 2 0 1 2 0]\n",
      "[0 0 1 0 0 1 0 0 1 0 0 1]\n",
      "[0 1 2 0 1 2 0 1 2 0 1 2]\n",
      "[1 0 0 1 0 0 1 0 0 1 0 0]\n"
     ]
    }
   ],
   "source": [
    "import cpmpy as cp\n",
    "\n",
    "# Parameters\n",
    "r, g, y = 0, 1, 2\n",
    "n_periods = 3 * 4\n",
    "\n",
    "# Decision variables\n",
    "v1, v2, v3, v4 = cp.intvar(r, y, shape=(4, n_periods))\n",
    "p1, p2, p3, p4 = cp.intvar(r, g, shape=(4, n_periods))\n",
    "traffic_lights = [v1, p1, v2, p2, v3, p3, v4, p4]\n",
    "\n",
    "model = cp.Model()\n",
    "\n",
    "# Constraints\n",
    "for t in range(n_periods):\n",
    "    # North-South vs East-West vehicle traffic\n",
    "    model += ~((v1[t] == g) & (v2[t] == g))\n",
    "    model += ~((v1[t] == g) & (v4[t] == g))\n",
    "    model += ~((v3[t] == g) & (v2[t] == g))\n",
    "    model += ~((v3[t] == g) & (v4[t] == g))\n",
    "    \n",
    "    # Pedestrians cannot cross when perpendicular traffic is green or yellow\n",
    "    model += ~((p1[t] == g) & ((v1[t] == g) | (v1[t] == y)))\n",
    "    model += ~((p1[t] == g) & ((v3[t] == g) | (v3[t] == y)))\n",
    "    model += ~((p2[t] == g) & ((v2[t] == g) | (v2[t] == y)))\n",
    "    model += ~((p2[t] == g) & ((v4[t] == g) | (v4[t] == y)))\n",
    "    model += ~((p3[t] == g) & ((v3[t] == g) | (v3[t] == y)))\n",
    "    model += ~((p3[t] == g) & ((v1[t] == g) | (v1[t] == y)))\n",
    "    model += ~((p4[t] == g) & ((v4[t] == g) | (v4[t] == y)))\n",
    "    model += ~((p4[t] == g) & ((v2[t] == g) | (v2[t] == y)))\n",
    "\n",
    "    # Transitions\n",
    "    if t > 0:\n",
    "        for v in [v1, v2, v3, v4]:\n",
    "            model += v[t] == ((v[t-1] + 1) % 3)\n",
    "\n",
    "model.maximize(cp.sum([cp.Count(tl, g) for tl in traffic_lights]))\n",
    "\n",
    "if model.solve():\n",
    "    print(\"Solution found!\")\n",
    "    for tl in traffic_lights:\n",
    "        print(tl.value())\n",
    "else:\n",
    "    print(\"No solution found.\")"
   ]
  }
 ],
 "metadata": {
  "kernelspec": {
   "display_name": ".venv",
   "language": "python",
   "name": "python3"
  },
  "language_info": {
   "codemirror_mode": {
    "name": "ipython",
    "version": 3
   },
   "file_extension": ".py",
   "mimetype": "text/x-python",
   "name": "python",
   "nbconvert_exporter": "python",
   "pygments_lexer": "ipython3",
   "version": "3.11.9"
  }
 },
 "nbformat": 4,
 "nbformat_minor": 2
}
