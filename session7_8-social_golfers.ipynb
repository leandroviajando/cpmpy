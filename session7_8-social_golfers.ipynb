{
 "cells": [
  {
   "cell_type": "markdown",
   "metadata": {},
   "source": [
    "# Additional Modelling Challenges\n",
    "\n",
    "## Social Golfers\n",
    "\n",
    "At a local golf club, there are 32 social golfers, each of whom play golf once a week, and always in groups of 4.\n",
    "\n",
    "They would like you to come up with a schedule of play, to last as many weeks as possible, such that no golfer plays in the same group as any other golfer on more than one occasion.\n",
    "\n",
    "Possible variants of the above problem include:\n",
    "\n",
    "- finding a 10-week schedule with “maximum socialisation”; that is, as few repeated pairs as possible (this has the same solutions as the original problem if it is possible to have no repeated pairs), and\n",
    "- finding a schedule of minimum length such that each golfer plays with every other golfer at least once (“full socialisation”).\n",
    "\n",
    "The problem can easily be generalized to that of scheduling `G` groups of `m` of the `P` golfers over `W` weeks, such that no golfer plays in the same group as any other golfer twice (i.e. maximum socialisation is achieved)."
   ]
  },
  {
   "cell_type": "code",
   "execution_count": 1,
   "metadata": {},
   "outputs": [
    {
     "name": "stdout",
     "output_type": "stream",
     "text": [
      "[[2 0 0 6 5 5 7 5 3 4 4 2 1 5 7 2 1 6 7 4 6 0 7 1 4 3 1 6 3 0 3 2]\n",
      " [3 2 5 0 6 7 2 2 6 1 0 5 1 1 0 6 6 7 5 4 4 1 4 2 7 3 0 3 4 3 5 7]\n",
      " [7 6 5 7 1 2 1 3 3 3 2 0 2 5 0 4 7 5 7 4 3 0 2 0 1 1 4 6 5 4 6 6]\n",
      " [6 3 6 0 6 1 5 4 0 2 6 0 0 3 2 3 5 4 7 1 5 7 4 1 3 4 7 2 2 5 1 7]\n",
      " [6 1 4 5 0 2 3 5 4 2 1 2 3 6 0 5 7 3 1 3 0 7 6 6 7 1 4 4 5 2 7 0]\n",
      " [1 5 6 7 4 5 1 6 2 4 0 3 6 7 6 0 5 4 4 7 0 0 3 2 3 7 1 3 5 2 1 2]\n",
      " [6 4 3 5 1 7 7 6 4 3 2 1 0 2 4 7 2 4 0 6 0 6 5 3 0 3 1 7 1 5 5 2]]\n"
     ]
    },
    {
     "data": {
      "text/plain": [
       "1"
      ]
     },
     "execution_count": 1,
     "metadata": {},
     "output_type": "execute_result"
    }
   ],
   "source": [
    "import cpmpy as cp\n",
    "\n",
    "# Parameters\n",
    "W = 7\n",
    "P = 32\n",
    "m = 4\n",
    "G = P // m  # typically 32 players, 4 per group => 8 groups\n",
    "\n",
    "# Decision variables\n",
    "# x[w,p] = group number of player p in week w\n",
    "x = cp.intvar(0, G-1, shape=(W, P), name=\"x\")  \n",
    "\n",
    "model = cp.Model()\n",
    "\n",
    "# Constraints\n",
    "# 1. Each group is assigned exactly m players in each week\n",
    "for w in range(W):\n",
    "    for g in range(G):\n",
    "        model += [sum([x[w,p] == g for p in range(P)]) == m]\n",
    "\n",
    "# 2. No repeated pairs\n",
    "for p1 in range(P):\n",
    "    for p2 in range(p1+1, P):\n",
    "        model += [sum([(x[w,p1] == x[w,p2]) for w in range(W)]) <= 1]\n",
    "\n",
    "model.solveAll(display=x, solution_limit=1)"
   ]
  }
 ],
 "metadata": {
  "kernelspec": {
   "display_name": ".venv",
   "language": "python",
   "name": "python3"
  },
  "language_info": {
   "codemirror_mode": {
    "name": "ipython",
    "version": 3
   },
   "file_extension": ".py",
   "mimetype": "text/x-python",
   "name": "python",
   "nbconvert_exporter": "python",
   "pygments_lexer": "ipython3",
   "version": "3.11.9"
  }
 },
 "nbformat": 4,
 "nbformat_minor": 2
}
