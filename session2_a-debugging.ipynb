{
  "cells": [
    {
      "cell_type": "markdown",
      "id": "5eb7a3cc-ef34-4f01-806a-feab5cb7bb3d",
      "metadata": {
        "id": "5eb7a3cc-ef34-4f01-806a-feab5cb7bb3d"
      },
      "source": [
        "# Exercises for the course \"Declarative Problem Solving Paradigms in AI\""
      ]
    },
    {
      "cell_type": "code",
      "execution_count": 1,
      "id": "155d826c-cdad-489e-bbb0-2a8aa7e5c3a4",
      "metadata": {
        "id": "155d826c-cdad-489e-bbb0-2a8aa7e5c3a4"
      },
      "outputs": [],
      "source": [
        "# Imports (some dependency errors may appear, you can ignore them for now)\n",
        "# !pip install cpmpy numpy colorama networkx matplotlib requests z3-solver --quiet\n",
        "\n",
        "import colorama\n",
        "import cpmpy as cp\n",
        "import numpy as np"
      ]
    },
    {
      "cell_type": "markdown",
      "id": "473a2ff9-26bd-4c40-8272-0c718a1e4d75",
      "metadata": {
        "id": "473a2ff9-26bd-4c40-8272-0c718a1e4d75"
      },
      "source": [
        "## **Session 2: Reification, solving, debugging and explaining**"
      ]
    },
    {
      "cell_type": "markdown",
      "id": "a0f3f260-2fdd-433c-a58c-b8ec63792e11",
      "metadata": {
        "id": "a0f3f260-2fdd-433c-a58c-b8ec63792e11"
      },
      "source": [
        "Welcome to the second exercise session of Declarative Problem Solving Paradigms in AI. In this session, we will cover a collection of concepts you would need to master as to efficiently and effectively create Constraint Programming models of your own:\n",
        "\n",
        "\n",
        "1) Debugging\n",
        "\n",
        "2) Solving\n",
        "\n",
        "3) Explaining\n",
        "\n",
        "4) Reification\n",
        "\n",
        "We will cover each of them in a separate section; guiding you through an example, followed by a modelling exercise.\n",
        "\n",
        "**Useful Resources:**\n",
        "* CPMpy documentation: https://cpmpy.readthedocs.io/en/latest/index.html\n",
        "* CPMpy quickstart: https://cpmpy.readthedocs.io/en/latest/modeling.html"
      ]
    },
    {
      "cell_type": "markdown",
      "id": "631d1223-f180-4252-9ce7-f673babb8d54",
      "metadata": {
        "id": "631d1223-f180-4252-9ce7-f673babb8d54",
        "jp-MarkdownHeadingCollapsed": true
      },
      "source": [
        "### **Part 1: Debugging**"
      ]
    },
    {
      "cell_type": "markdown",
      "id": "cmF03WRLABkJ",
      "metadata": {
        "id": "cmF03WRLABkJ"
      },
      "source": [
        "In this section, we'll look at a quite usefull topic for when designing your own Constraint Programming models: **debugging**.\n",
        "\n",
        "You've made a model, and now you are trying to solve it. But oh no, you get:\n",
        "- an error\n",
        "- no solution\n",
        "- an incorrect solution\n",
        "\n",
        "We've gotten ourselves a BUG!"
      ]
    },
    {
      "cell_type": "markdown",
      "id": "bda2bcda-f9fc-45c4-bfae-bfe908be5c8d",
      "metadata": {
        "id": "bda2bcda-f9fc-45c4-bfae-bfe908be5c8d"
      },
      "source": [
        "\n",
        "\n",
        "<!-- <div>\n",
        "    <img src=\"attachment:e1a4c1fb-dfbc-43a1-a092-3244c1a23c06.png\" width=\"300\"/>\n",
        "</div> -->\n",
        "\n",
        "\n",
        "<div>\n",
        "    <img src=\"https://pngpix.com/images/hd/cartoon-ladybug-illustration-7lugnuh6u9q5fm98.jpg\" width=\"300\"/>\n",
        "</div>\n",
        "\n",
        "\n",
        "<!-- ![image.png](attachment:e1a4c1fb-dfbc-43a1-a092-3244c1a23c06.png)![image.png](attachment:2b4e9a5b-1293-41a1-b1e2-3d549d0d301e.png) -->\n",
        "\n",
        "From previous courses you should already have some experience with debugging. But now we are working with a declarative language, so how do you \"*debug a model*\"? There is no such thing as setting break-points and going through the lines of code step-by-step. The solver is assumed to be a \"black box\", inaccessible for us modelers.\n",
        "\n",
        "Luckily, the expert modeler [Håkan Kjellerstrand](http://www.hakank.org/) has some tips for us:\n",
        "- Test the model **early and often**\n",
        "- When a model is not working, **activate the constraints one by one** to test which constraint (or combination) is the culprit.\n",
        "- **Check the domains** of the decision variables\n",
        "\n",
        "The idea is that by doing the first point often, there is a limited need for the second (which is more tedious).\n",
        "\n",
        "The bug can be situated in one of three layers:\n",
        "1. your model\n",
        "2. the modeling library (CPMpy)\n",
        "3. the solver\n",
        "\n",
        "They are ordered from most likely to least likely! The last two are more meant for solver developers and for us, your teaching assistants (Tias' research group is responsible for the development of CPMpy, have a [look](https://github.com/CPMpy/cpmpy) at our work ;) )\n",
        "\n",
        "We'll only cover the first type. We've seen some common modeling mistakes in the lectures. Let's see if you're able to spot all of them, and of couse provide a correction."
      ]
    },
    {
      "cell_type": "markdown",
      "id": "bed09014-e951-4c40-987d-96049ead17fa",
      "metadata": {
        "id": "bed09014-e951-4c40-987d-96049ead17fa",
        "jp-MarkdownHeadingCollapsed": true
      },
      "source": [
        "#### **0. Setup**"
      ]
    },
    {
      "cell_type": "code",
      "execution_count": 2,
      "id": "6daac568-eecb-42c2-9740-77daa9918caf",
      "metadata": {
        "id": "6daac568-eecb-42c2-9740-77daa9918caf"
      },
      "outputs": [],
      "source": [
        "def used_capacity(x):\n",
        "    \"\"\"A small function to give you feedback whether you've correctly fixed the upcoming 'Warehouse Container Problem'\"\"\"\n",
        "    a = np.sum(x * np.array([[2,3,5]]).T, axis=0)\n",
        "    res = f\"{'Over capacity: ' if any(a > 10) else 'OK: '}\\n\"\n",
        "    for i,b in enumerate(a):\n",
        "        res += f\"{colorama.Fore.RED if b > 10 else colorama.Fore.GREEN}Container {i}: {b} / {10}\\n\"\n",
        "    res += colorama.Style.RESET_ALL\n",
        "    return res"
      ]
    },
    {
      "cell_type": "markdown",
      "id": "9b17d1d8-0cee-4f78-9104-7dd877e3a2b1",
      "metadata": {
        "id": "9b17d1d8-0cee-4f78-9104-7dd877e3a2b1",
        "jp-MarkdownHeadingCollapsed": true
      },
      "source": [
        "#### **1. Syntax Errors**"
      ]
    },
    {
      "cell_type": "markdown",
      "id": "424c9eaa-9053-4877-94d2-72d664ccc961",
      "metadata": {
        "id": "424c9eaa-9053-4877-94d2-72d664ccc961"
      },
      "source": [
        "The bugs to be found in the models below belong to the category of \"**syntax errors**\". These are of course the easiest to catch, since the Python interpreter will detect them for you and will raise an error."
      ]
    },
    {
      "cell_type": "markdown",
      "id": "b48601d4-a08b-48d3-bd19-5507e394d72f",
      "metadata": {
        "id": "b48601d4-a08b-48d3-bd19-5507e394d72f"
      },
      "source": [
        "##### **1.1. Worker Assignment**"
      ]
    },
    {
      "cell_type": "markdown",
      "id": "31e0019e-1500-433b-9146-3e19268f4c45",
      "metadata": {
        "id": "31e0019e-1500-433b-9146-3e19268f4c45"
      },
      "source": [
        "A factory needs to assign 4 workers (W1, W2, W3, W4) to 4 different tasks (T1, T2, T3, T4). Each worker can perform one task at a time, and every task must be completed by exactly one worker.\n",
        "\n",
        "Additionally:\n",
        "\n",
        "- W1 can only work on Task 1 or Task 2.\n",
        "- W2 cannot work on Task 3.\n",
        "- W3 must work on either Task 3 or Task 4.\n",
        "- W4 must work on a different task than Worker 2.\n",
        "\n",
        "The goal is to assign each worker to a task under these constraints."
      ]
    },
    {
      "cell_type": "code",
      "execution_count": 3,
      "id": "29f12fc0-57ef-46b2-b7c5-d9ef2c1dcbc5",
      "metadata": {
        "id": "29f12fc0-57ef-46b2-b7c5-d9ef2c1dcbc5"
      },
      "outputs": [
        {
          "ename": "TypeError",
          "evalue": "1|x[0] is not valid because 1 is a number, did you forgot to put brackets? E.g. always write (x==2)|(y<5).",
          "output_type": "error",
          "traceback": [
            "\u001b[0;31m---------------------------------------------------------------------------\u001b[0m",
            "\u001b[0;31mTypeError\u001b[0m                                 Traceback (most recent call last)",
            "Cell \u001b[0;32mIn[3], line 16\u001b[0m\n\u001b[1;32m     12\u001b[0m m \u001b[38;5;241m=\u001b[39m cp\u001b[38;5;241m.\u001b[39mModel()\n\u001b[1;32m     14\u001b[0m \u001b[38;5;66;03m# Constraints:\u001b[39;00m\n\u001b[1;32m     15\u001b[0m \u001b[38;5;66;03m# - W1 can only work on Task 1 or Task 2\u001b[39;00m\n\u001b[0;32m---> 16\u001b[0m m \u001b[38;5;241m+\u001b[39m\u001b[38;5;241m=\u001b[39m [x[\u001b[38;5;241m0\u001b[39m] \u001b[38;5;241m==\u001b[39m \u001b[38;5;241;43m1\u001b[39;49m\u001b[43m \u001b[49m\u001b[38;5;241;43m|\u001b[39;49m\u001b[43m \u001b[49m\u001b[43mx\u001b[49m\u001b[43m[\u001b[49m\u001b[38;5;241;43m0\u001b[39;49m\u001b[43m]\u001b[49m \u001b[38;5;241m==\u001b[39m \u001b[38;5;241m2\u001b[39m]\n\u001b[1;32m     17\u001b[0m \u001b[38;5;66;03m# - W2 cannot work on Task 3\u001b[39;00m\n\u001b[1;32m     18\u001b[0m m \u001b[38;5;241m+\u001b[39m\u001b[38;5;241m=\u001b[39m [x[\u001b[38;5;241m1\u001b[39m] \u001b[38;5;241m!=\u001b[39m \u001b[38;5;241m3\u001b[39m]\n",
            "File \u001b[0;32m~/Documents/github/leandroviajando/cpmpy/.venv/lib/python3.11/site-packages/cpmpy/expressions/core.py:239\u001b[0m, in \u001b[0;36mExpression.__ror__\u001b[0;34m(self, other)\u001b[0m\n\u001b[1;32m    237\u001b[0m \u001b[38;5;66;03m# catch beginner mistake\u001b[39;00m\n\u001b[1;32m    238\u001b[0m \u001b[38;5;28;01mif\u001b[39;00m is_num(other):\n\u001b[0;32m--> 239\u001b[0m     \u001b[38;5;28;01mraise\u001b[39;00m \u001b[38;5;167;01mTypeError\u001b[39;00m(\u001b[38;5;124mf\u001b[39m\u001b[38;5;124m\"\u001b[39m\u001b[38;5;132;01m{\u001b[39;00mother\u001b[38;5;132;01m}\u001b[39;00m\u001b[38;5;124m|\u001b[39m\u001b[38;5;132;01m{\u001b[39;00m\u001b[38;5;28mself\u001b[39m\u001b[38;5;132;01m}\u001b[39;00m\u001b[38;5;124m is not valid because \u001b[39m\u001b[38;5;132;01m{\u001b[39;00mother\u001b[38;5;132;01m}\u001b[39;00m\u001b[38;5;124m is a number, did you forgot to put brackets? E.g. always write (x==2)|(y<5).\u001b[39m\u001b[38;5;124m\"\u001b[39m)\n\u001b[1;32m    240\u001b[0m \u001b[38;5;28;01mreturn\u001b[39;00m Operator(\u001b[38;5;124m\"\u001b[39m\u001b[38;5;124mor\u001b[39m\u001b[38;5;124m\"\u001b[39m, [other, \u001b[38;5;28mself\u001b[39m])\n",
            "\u001b[0;31mTypeError\u001b[0m: 1|x[0] is not valid because 1 is a number, did you forgot to put brackets? E.g. always write (x==2)|(y<5)."
          ]
        }
      ],
      "source": [
        "\"\"\"\n",
        "TODO: Debug this model.\n",
        "\n",
        "HINT: Carefully look at the error message you get.\n",
        "\"\"\"\n",
        "\n",
        "# Decision Variables\n",
        "# - x[i] represents the task assigned to worker i (indexed from 1)\n",
        "x = cp.intvar(1, 4, shape=4, name=\"x\")\n",
        "\n",
        "# Model\n",
        "m = cp.Model()\n",
        "\n",
        "# Constraints:\n",
        "# - W1 can only work on Task 1 or Task 2\n",
        "m += [x[0] == 1 | x[0] == 2]\n",
        "# - W2 cannot work on Task 3\n",
        "m += [x[1] != 3]\n",
        "# - W3 must work on Task 3 or Task 4\n",
        "m += [x[2] == 3 | x[2] == 4]\n",
        "# - W4 must work on a different task than W2\n",
        "m += [x[3] != x[1]]\n",
        "# - All tasks must be assigned to different workers (all different constraint)\n",
        "m += [cp.AllDifferent(x)]\n",
        "\n",
        "# Solve the model\n",
        "if m.solve():\n",
        "    print(\"Solution found:\")\n",
        "    print(\"Task assignments:\", x.value())\n",
        "else:\n",
        "    print(\"No solution found.\")"
      ]
    },
    {
      "cell_type": "markdown",
      "id": "df7766d9",
      "metadata": {},
      "source": [
        "As seen in the lecture, be careful with the order of operations, also known as the strength with which the operators bind. `x == 1 & y == 2` will model `x == (1 & y) == 2` and not the intended `(x == 1) & (y == 2)`."
      ]
    },
    {
      "cell_type": "markdown",
      "id": "7a211a8f",
      "metadata": {},
      "source": [
        "**Fixed**: first and third constraints:"
      ]
    },
    {
      "cell_type": "code",
      "execution_count": 4,
      "id": "9701e126",
      "metadata": {},
      "outputs": [
        {
          "name": "stdout",
          "output_type": "stream",
          "text": [
            "Solution found:\n",
            "Task assignments: [2 4 3 1]\n"
          ]
        }
      ],
      "source": [
        "\"\"\"\n",
        "TODO: Debug this model.\n",
        "\n",
        "HINT: Carefully look at the error message you get.\n",
        "\"\"\"\n",
        "\n",
        "# Decision Variables\n",
        "# - x[i] represents the task assigned to worker i (indexed from 1)\n",
        "x = cp.intvar(1, 4, shape=4, name=\"x\")\n",
        "\n",
        "# Model\n",
        "m = cp.Model()\n",
        "\n",
        "# Constraints:\n",
        "# - W1 can only work on Task 1 or Task 2\n",
        "m += [(x[0] == 1) | (x[0] == 2)]\n",
        "# - W2 cannot work on Task 3\n",
        "m += [x[1] != 3]\n",
        "# - W3 must work on Task 3 or Task 4\n",
        "m += [(x[2] == 3) | (x[2] == 4)]\n",
        "# - W4 must work on a different task than W2\n",
        "m += [x[3] != x[1]]\n",
        "# - All tasks must be assigned to different workers (all different constraint)\n",
        "m += [cp.AllDifferent(x)]\n",
        "\n",
        "# Solve the model\n",
        "if m.solve():\n",
        "    print(\"Solution found:\")\n",
        "    print(\"Task assignments:\", x.value())\n",
        "else:\n",
        "    print(\"No solution found.\")"
      ]
    },
    {
      "cell_type": "markdown",
      "id": "4aab7590-9a24-47f8-9959-5d0b1a2fa1df",
      "metadata": {
        "id": "4aab7590-9a24-47f8-9959-5d0b1a2fa1df"
      },
      "source": [
        "##### **1.2. Machine Configuration**"
      ]
    },
    {
      "cell_type": "markdown",
      "id": "d46de83d-bac8-42bd-a0d6-aabbb32b5262",
      "metadata": {
        "id": "d46de83d-bac8-42bd-a0d6-aabbb32b5262"
      },
      "source": [
        "A manufacturing plant operates several machines that need to be calibrated regularly to ensure they are functioning at peak efficiency. The calibration involves adjusting four key machine settings (a, b, c, and d), each of which has a specific range of values.\n",
        "\n",
        "The maintenance team has a calibration checklist:\n",
        "- Setting a can be adjusted between 0 and 4.\n",
        "- Setting b can be adjusted between 0 and 3.\n",
        "- Setting c must be set between 1 and 4.\n",
        "- Setting d must be set between 1 and 3.\n",
        "\n",
        "Calibration Requirements:\n",
        "- At most two settings can be set to exactly 3 to avoid overloading the machines with a high configuration in too many settings.\n",
        "- At least one setting must be exactly 2 to ensure a certain degree of stability across the machine settings."
      ]
    },
    {
      "cell_type": "code",
      "execution_count": 5,
      "id": "a9507d76-1d7f-44f5-bdf3-60ecb2984f64",
      "metadata": {
        "id": "a9507d76-1d7f-44f5-bdf3-60ecb2984f64"
      },
      "outputs": [
        {
          "ename": "TypeError",
          "evalue": "'bool' object is not iterable",
          "output_type": "error",
          "traceback": [
            "\u001b[0;31m---------------------------------------------------------------------------\u001b[0m",
            "\u001b[0;31mTypeError\u001b[0m                                 Traceback (most recent call last)",
            "Cell \u001b[0;32mIn[5], line 20\u001b[0m\n\u001b[1;32m     16\u001b[0m m \u001b[38;5;241m=\u001b[39m cp\u001b[38;5;241m.\u001b[39mModel()\n\u001b[1;32m     18\u001b[0m \u001b[38;5;66;03m# Constraints\u001b[39;00m\n\u001b[1;32m     19\u001b[0m \u001b[38;5;66;03m# - At most 2 settings can be exactly 3\u001b[39;00m\n\u001b[0;32m---> 20\u001b[0m m \u001b[38;5;241m+\u001b[39m\u001b[38;5;241m=\u001b[39m \u001b[43mcp\u001b[49m\u001b[38;5;241;43m.\u001b[39;49m\u001b[43msum\u001b[49m\u001b[43m(\u001b[49m\u001b[43me\u001b[49m\u001b[43m \u001b[49m\u001b[38;5;241;43m==\u001b[39;49m\u001b[43m \u001b[49m\u001b[38;5;241;43m3\u001b[39;49m\u001b[43m)\u001b[49m \u001b[38;5;241m<\u001b[39m\u001b[38;5;241m=\u001b[39m \u001b[38;5;241m2\u001b[39m\n\u001b[1;32m     21\u001b[0m \u001b[38;5;66;03m# - At least 1 setting must be exactly 2\u001b[39;00m\n\u001b[1;32m     22\u001b[0m m \u001b[38;5;241m+\u001b[39m\u001b[38;5;241m=\u001b[39m cp\u001b[38;5;241m.\u001b[39msum(e \u001b[38;5;241m==\u001b[39m \u001b[38;5;241m2\u001b[39m) \u001b[38;5;241m>\u001b[39m\u001b[38;5;241m=\u001b[39m \u001b[38;5;241m1\u001b[39m\n",
            "File \u001b[0;32m~/Documents/github/leandroviajando/cpmpy/.venv/lib/python3.11/site-packages/cpmpy/expressions/python_builtins.py:124\u001b[0m, in \u001b[0;36msum\u001b[0;34m(*iterable, **kwargs)\u001b[0m\n\u001b[1;32m    117\u001b[0m \u001b[38;5;250m\u001b[39m\u001b[38;5;124;03m\"\"\"\u001b[39;00m\n\u001b[1;32m    118\u001b[0m \u001b[38;5;124;03m    sum() overwrites the python built-in to support decision variables.\u001b[39;00m\n\u001b[1;32m    119\u001b[0m \n\u001b[1;32m    120\u001b[0m \u001b[38;5;124;03m    if iterable does not contain CPMpy expressions, the built-in is called\u001b[39;00m\n\u001b[1;32m    121\u001b[0m \u001b[38;5;124;03m    checks if all constants and uses built-in sum() in that case\u001b[39;00m\n\u001b[1;32m    122\u001b[0m \u001b[38;5;124;03m\"\"\"\u001b[39;00m\n\u001b[1;32m    123\u001b[0m \u001b[38;5;28;01mif\u001b[39;00m \u001b[38;5;28mlen\u001b[39m(iterable) \u001b[38;5;241m==\u001b[39m \u001b[38;5;241m1\u001b[39m:\n\u001b[0;32m--> 124\u001b[0m     iterable \u001b[38;5;241m=\u001b[39m \u001b[38;5;28;43mtuple\u001b[39;49m\u001b[43m(\u001b[49m\u001b[43miterable\u001b[49m\u001b[43m[\u001b[49m\u001b[38;5;241;43m0\u001b[39;49m\u001b[43m]\u001b[49m\u001b[43m)\u001b[49m \u001b[38;5;66;03m# Fix generator polling\u001b[39;00m\n\u001b[1;32m    125\u001b[0m \u001b[38;5;28;01mif\u001b[39;00m \u001b[38;5;129;01mnot\u001b[39;00m builtins\u001b[38;5;241m.\u001b[39many(\u001b[38;5;28misinstance\u001b[39m(elem, Expression) \u001b[38;5;28;01mfor\u001b[39;00m elem \u001b[38;5;129;01min\u001b[39;00m iterable):\n\u001b[1;32m    126\u001b[0m     \u001b[38;5;28;01mreturn\u001b[39;00m builtins\u001b[38;5;241m.\u001b[39msum(iterable, \u001b[38;5;241m*\u001b[39m\u001b[38;5;241m*\u001b[39mkwargs)\n",
            "\u001b[0;31mTypeError\u001b[0m: 'bool' object is not iterable"
          ]
        }
      ],
      "source": [
        "\"\"\"\n",
        "TODO: Debug this model.\n",
        "\"\"\"\n",
        "\n",
        "# Decision Variables\n",
        "# - Machine settings represented by integer variables\n",
        "a = cp.intvar(0, 4, name=\"a\")\n",
        "b = cp.intvar(0, 3, name=\"b\")\n",
        "c = cp.intvar(1, 4, name=\"c\")\n",
        "d = cp.intvar(1, 3, name=\"d\")\n",
        "\n",
        "# - List of settings\n",
        "e = [a, b, c, d]\n",
        "\n",
        "# Model\n",
        "m = cp.Model()\n",
        "\n",
        "# Constraints\n",
        "# - At most 2 settings can be exactly 3\n",
        "m += cp.sum(e == 3) <= 2\n",
        "# - At least 1 setting must be exactly 2\n",
        "m += cp.sum(e == 2) >= 1\n",
        "\n",
        "# Solve the model\n",
        "if m.solve():\n",
        "    print(\"Optimal machine settings found:\")\n",
        "    print(\"Setting a:\", a.value())\n",
        "    print(\"Setting b:\", b.value())\n",
        "    print(\"Setting c:\", c.value())\n",
        "    print(\"Setting d:\", d.value())\n",
        "else:\n",
        "    print(\"No valid configuration found.\")"
      ]
    },
    {
      "cell_type": "markdown",
      "id": "dd98a499",
      "metadata": {},
      "source": [
        "**Fixed**: use `cp.Count` instead:"
      ]
    },
    {
      "cell_type": "code",
      "execution_count": 6,
      "id": "0c31e89c",
      "metadata": {},
      "outputs": [
        {
          "name": "stdout",
          "output_type": "stream",
          "text": [
            "Optimal machine settings found:\n",
            "Setting a: 2\n",
            "Setting b: 0\n",
            "Setting c: 1\n",
            "Setting d: 1\n"
          ]
        }
      ],
      "source": [
        "\"\"\"\n",
        "TODO: Debug this model.\n",
        "\"\"\"\n",
        "\n",
        "# Decision Variables\n",
        "# - Machine settings represented by integer variables\n",
        "a = cp.intvar(0, 4, name=\"a\")\n",
        "b = cp.intvar(0, 3, name=\"b\")\n",
        "c = cp.intvar(1, 4, name=\"c\")\n",
        "d = cp.intvar(1, 3, name=\"d\")\n",
        "\n",
        "# - List of settings\n",
        "e = [a, b, c, d]\n",
        "\n",
        "# Model\n",
        "m = cp.Model()\n",
        "\n",
        "# Constraints\n",
        "# - At most 2 settings can be exactly 3\n",
        "m += cp.Count(e, 3) <= 2\n",
        "# - At least 1 setting must be exactly 2\n",
        "m += cp.Count(e, 2) >= 1\n",
        "\n",
        "# Solve the model\n",
        "if m.solve():\n",
        "    print(\"Optimal machine settings found:\")\n",
        "    print(\"Setting a:\", a.value())\n",
        "    print(\"Setting b:\", b.value())\n",
        "    print(\"Setting c:\", c.value())\n",
        "    print(\"Setting d:\", d.value())\n",
        "else:\n",
        "    print(\"No valid configuration found.\")"
      ]
    },
    {
      "cell_type": "markdown",
      "id": "fee22432-9b50-4533-a123-27cc650d7c86",
      "metadata": {
        "id": "fee22432-9b50-4533-a123-27cc650d7c86",
        "jp-MarkdownHeadingCollapsed": true
      },
      "source": [
        "#### **2. Unexpected UNSAT**"
      ]
    },
    {
      "cell_type": "markdown",
      "id": "48edfde9-65e5-41f1-9520-eda647232ca8",
      "metadata": {
        "id": "48edfde9-65e5-41f1-9520-eda647232ca8"
      },
      "source": [
        "Now we'll look at more difficult bugs, the ones where the model does not have errors but still doesn't return a solution (when we were expecting one)."
      ]
    },
    {
      "cell_type": "markdown",
      "id": "d2f92a8f-a573-48e4-ae98-a41f1b4d9bea",
      "metadata": {
        "id": "d2f92a8f-a573-48e4-ae98-a41f1b4d9bea"
      },
      "source": [
        "##### **2.1. Organizing the Harmony Festival**"
      ]
    },
    {
      "cell_type": "markdown",
      "id": "106d4c00-0cb2-494c-be4d-8cdc9aff5b92",
      "metadata": {
        "id": "106d4c00-0cb2-494c-be4d-8cdc9aff5b92"
      },
      "source": [
        "The town of Meadowvale is buzzing with excitement as the annual Harmony Festival approaches. This year, a diverse group of friends and acquaintances has come together to make the festival a success. However, their relationships are complicated; some are good friends, while others have a history of conflict.\n",
        "\n",
        "**Characters**\n",
        "- **Sophie** : The enthusiastic organizer who is in charge of the **Food Stall**. She believes good food brings people together.\n",
        "- **Jake** : A talented musician responsible for arranging **Live Music**. He loves performing but has a rivalry with another group: Emily.\n",
        "- **Emily** : A passionate community member organizing a **Workshop** on sustainable living. She wants to educate attendees but is not on good terms with Jake due to past disagreements.\n",
        "- **Oliver** : The festival's logistics manager. He aims to ensure everything runs smoothly but is caught in the middle of the tensions.\n",
        "\n",
        "**Festival Events and Constraints**\n",
        "- **Food Stall (A)**: If Sophie sets up a food stall, Jake must provide live music to create a lively atmosphere.\n",
        "- **Live Music (B)**: Jake is excited to perform, but if he is on stage, Emily cannot conduct her workshop, as their past conflicts would create tension and distract the attendees.\n",
        "- **Workshop (C)**: If Emily organizes her workshop, she insists that there must be a food stall, as refreshments will be crucial for participants. But she will not turn up of Jake is also there.\n",
        "\n",
        "**Objective**\n",
        "The goal is to maximize the number of events while avoiding conflicts."
      ]
    },
    {
      "cell_type": "code",
      "execution_count": 7,
      "id": "4d324c6a-d85e-42d5-86be-d16b60e28f81",
      "metadata": {
        "id": "4d324c6a-d85e-42d5-86be-d16b60e28f81"
      },
      "outputs": [
        {
          "name": "stdout",
          "output_type": "stream",
          "text": [
            "No feasible setup exists for the festival.\n"
          ]
        }
      ],
      "source": [
        "\"\"\"\n",
        "TODO: Debug this model.\n",
        "\"\"\"\n",
        "\n",
        "# Decision Variables\n",
        "# - define binary variables for events\n",
        "A = cp.boolvar(name=\"Food_Stall\")  # True if there is a food stall\n",
        "B = cp.boolvar(name=\"Live_Music\")  # True if there is live music\n",
        "C = cp.boolvar(name=\"Workshop\")    # True if there is a workshop\n",
        "\n",
        "# Model\n",
        "model = cp.Model()\n",
        "\n",
        "# Constraints\n",
        "# 1) If there is a food stall, there must be live music\n",
        "if A:\n",
        "    model += B\n",
        "# 2) If there is live music, there cannot be a workshop\n",
        "if B:\n",
        "    model += ~C\n",
        "# 3) If there is a workshop, there must be a food stall, there can't be live music\n",
        "if C:\n",
        "    model += A\n",
        "    model += ~B\n",
        "\n",
        "model.maximize(A + B + C)\n",
        "\n",
        "# Solve the model\n",
        "if model.solve():\n",
        "    print(\"Festival Setup:\")\n",
        "    print(f\"Food Stall: {'Yes' if A.value() else 'No'}\")\n",
        "    print(f\"Live Music: {'Yes' if B.value() else 'No'}\")\n",
        "    print(f\"Workshop: {'Yes' if C.value() else 'No'}\")\n",
        "else:\n",
        "    print(\"No feasible setup exists for the festival.\")"
      ]
    },
    {
      "cell_type": "markdown",
      "id": "c28ecd26",
      "metadata": {},
      "source": [
        "**Fixed**: the if conditions weren't actually adding the constraints correctly, use `cp.implies` instead:"
      ]
    },
    {
      "cell_type": "code",
      "execution_count": 8,
      "id": "03b2b817",
      "metadata": {},
      "outputs": [
        {
          "name": "stdout",
          "output_type": "stream",
          "text": [
            "Festival Setup:\n",
            "Food Stall: Yes\n",
            "Live Music: Yes\n",
            "Workshop: No\n"
          ]
        }
      ],
      "source": [
        "\"\"\"\n",
        "TODO: Debug this model.\n",
        "\"\"\"\n",
        "\n",
        "# Decision Variables\n",
        "# - define binary variables for events\n",
        "A = cp.boolvar(name=\"Food_Stall\")  # True if there is a food stall\n",
        "B = cp.boolvar(name=\"Live_Music\")  # True if there is live music\n",
        "C = cp.boolvar(name=\"Workshop\")    # True if there is a workshop\n",
        "\n",
        "# Model\n",
        "model = cp.Model()\n",
        "\n",
        "# Constraints\n",
        "# 1) If there is a food stall, there must be live music\n",
        "model += A.implies(B)\n",
        "# 2) If there is live music, there cannot be a workshop\n",
        "model += B.implies(~C)\n",
        "# 3) If there is a workshop, there must be a food stall, there can't be live music\n",
        "model += C.implies(A & ~B)\n",
        "\n",
        "model.maximize(A + B + C)\n",
        "\n",
        "# Solve the model\n",
        "if model.solve():\n",
        "    print(\"Festival Setup:\")\n",
        "    print(f\"Food Stall: {'Yes' if A.value() else 'No'}\")\n",
        "    print(f\"Live Music: {'Yes' if B.value() else 'No'}\")\n",
        "    print(f\"Workshop: {'Yes' if C.value() else 'No'}\")\n",
        "else:\n",
        "    print(\"No feasible setup exists for the festival.\")"
      ]
    },
    {
      "cell_type": "markdown",
      "id": "1506b186-4008-4a1d-b96e-39cf4e81e756",
      "metadata": {
        "id": "1506b186-4008-4a1d-b96e-39cf4e81e756"
      },
      "source": [
        "##### **2.2. Treasure Hunt**"
      ]
    },
    {
      "cell_type": "markdown",
      "id": "1687f7c2-b06f-4d9a-beb2-40219c828554",
      "metadata": {
        "id": "1687f7c2-b06f-4d9a-beb2-40219c828554"
      },
      "source": [
        "A group of treasure hunters is preparing for an expedition and needs to pack a limited-capacity knapsack for the journey. They have four valuable artifacts with different weights and values, and their challenge is to select at least three of them to maximize the total value they can carry without exceeding the knapsack's weight limit.\n",
        "\n",
        "The hunters have identified four items with the following properties:\n",
        "\n",
        "- Weights: [2, 3, 4, 5] (in kilograms)\n",
        "- Values: [3, 4, 5, 6] (in monetary units)\n",
        "\n",
        "The knapsack can hold a maximum weight of 10 kilograms, and the hunters must select a combination of artifacts that maximizes the total value while staying within the weight limit."
      ]
    },
    {
      "cell_type": "code",
      "execution_count": 9,
      "id": "689dce08-479a-49a8-bed3-1c8db7d26805",
      "metadata": {
        "id": "689dce08-479a-49a8-bed3-1c8db7d26805"
      },
      "outputs": [
        {
          "name": "stdout",
          "output_type": "stream",
          "text": [
            "No solution found\n"
          ]
        }
      ],
      "source": [
        "\"\"\"\n",
        "TODO: Debug this model.\n",
        "\n",
        "HINT: Keep the tips from Håkan Kjellerstrand in mind.\n",
        "\"\"\"\n",
        "\n",
        "# Parameters of the Problem\n",
        "weights = [2, 3, 4, 5]  # weight of each item\n",
        "values = [3, 4, 5, 6]   # value of each item\n",
        "capacity = 10           # maximum weight capacity of the knapsack\n",
        "\n",
        "n_items = len(weights)\n",
        "\n",
        "# Decision Variables\n",
        "x = cp.boolvar(shape=n_items) # a binary decision variable for each item (0 = don't take, 1 = take)\n",
        "total_weight = cp.intvar(0, 10)\n",
        "total_value = cp.intvar(0, 10)\n",
        "\n",
        "# Model\n",
        "model = cp.Model()\n",
        "\n",
        "# Constraints\n",
        "model += ( total_weight <= capacity )             # weight constraint\n",
        "model += ( total_weight == cp.sum(x * weights) )  # total weight\n",
        "model += ( total_value == cp.sum(x * values) )    # total value\n",
        "model += ( cp.sum(x) >= 3 )                       # min number of items\n",
        "\n",
        "# Objective\n",
        "model.maximize(total_value) # objective to maximize the total value\n",
        "\n",
        "# Solve the model\n",
        "if model.solve():\n",
        "    print(\"Optimal selection of items:\", x.value())\n",
        "    print(\"Total weight:\", total_weight.value())\n",
        "    print(\"Total value:\", total_value.value())\n",
        "else:\n",
        "    print(\"No solution found\")"
      ]
    },
    {
      "cell_type": "markdown",
      "id": "ebd183bd",
      "metadata": {},
      "source": [
        "**Fixed**: the upper bound on the `total_value` was incorrect:"
      ]
    },
    {
      "cell_type": "code",
      "execution_count": 10,
      "id": "1a42e997",
      "metadata": {},
      "outputs": [
        {
          "name": "stdout",
          "output_type": "stream",
          "text": [
            "Optimal selection of items: [ True  True False  True]\n",
            "Total weight: 10\n",
            "Total value: 13\n"
          ]
        }
      ],
      "source": [
        "\"\"\"\n",
        "TODO: Debug this model.\n",
        "\n",
        "HINT: Keep the tips from Håkan Kjellerstrand in mind.\n",
        "\"\"\"\n",
        "\n",
        "# Parameters of the Problem\n",
        "weights = [2, 3, 4, 5]  # weight of each item\n",
        "values = [3, 4, 5, 6]   # value of each item\n",
        "capacity = 10           # maximum weight capacity of the knapsack\n",
        "\n",
        "n_items = len(weights)\n",
        "\n",
        "# Decision Variables\n",
        "x = cp.boolvar(shape=n_items) # a binary decision variable for each item (0 = don't take, 1 = take)\n",
        "total_weight = cp.intvar(0, capacity)\n",
        "total_value = cp.intvar(0, sum(values))\n",
        "\n",
        "# Model\n",
        "model = cp.Model()\n",
        "\n",
        "# Constraints\n",
        "model += ( total_value == cp.sum(x * values) )    # total value\n",
        "model += ( total_weight == cp.sum(x * weights) )  # total weight\n",
        "model += ( total_weight <= capacity )             # weight constraint\n",
        "model += ( cp.sum(x) >= 2 )                       # min number of items\n",
        "\n",
        "# Objective\n",
        "model.maximize(total_value) # objective to maximize the total value\n",
        "\n",
        "# Solve the model\n",
        "if model.solve():\n",
        "    print(\"Optimal selection of items:\", x.value())\n",
        "    print(\"Total weight:\", total_weight.value())\n",
        "    print(\"Total value:\", total_value.value())\n",
        "else:\n",
        "    print(\"No solution found\")"
      ]
    },
    {
      "cell_type": "markdown",
      "id": "7e0abbc5-6f28-451c-95c2-37d54936b1a9",
      "metadata": {
        "id": "7e0abbc5-6f28-451c-95c2-37d54936b1a9",
        "jp-MarkdownHeadingCollapsed": true
      },
      "source": [
        "#### **3. Unexpected Solution**"
      ]
    },
    {
      "cell_type": "markdown",
      "id": "05de0042-8b91-4742-b503-6d48c7153ce3",
      "metadata": {
        "id": "05de0042-8b91-4742-b503-6d48c7153ce3"
      },
      "source": [
        "Then there is the most difficult catergory of bugs, the ones where there is no error in the model, where the model does return a solution, but where the solution is not what we expected it to be. We've made a mistake when translating the problem description to the model formulation, and these mistakes can be very subtle. Have we forgotten a constraint, maybe an edge-case, does the constraint not express what we intended, etc?"
      ]
    },
    {
      "cell_type": "markdown",
      "id": "183ec138-8777-49ae-968b-14ca3b179f71",
      "metadata": {
        "id": "183ec138-8777-49ae-968b-14ca3b179f71"
      },
      "source": [
        "##### **3.1. Warehouse Container Problem**"
      ]
    },
    {
      "cell_type": "markdown",
      "id": "5bfc61b4-9515-46ad-8d26-a99c89a815af",
      "metadata": {
        "id": "5bfc61b4-9515-46ad-8d26-a99c89a815af"
      },
      "source": [
        "A warehouse needs to store different types of goods in containers. The warehouse has 4 containers, each with a limited capacity. There are 3 types of goods (A, B, and C) that need to be stored in these containers. The problem constraints are as follows:\n",
        "\n",
        "- Each container can hold a maximum of 10 units of goods.\n",
        "- Goods of type A require 2 units of space for each item.\n",
        "- Goods of type B require 3 units of space for each item.\n",
        "- Goods of type C require 5 units of space for each item.\n",
        "- The warehouse needs to store exactly 5 units of goods of type A, 4 units of goods of type B, and 3 units of goods of type C.\n",
        "- The total space used in each container must not exceed its capacity.\n",
        "\n",
        "The objective is to assign the goods to the containers such that the capacity constraints are respected."
      ]
    },
    {
      "cell_type": "code",
      "execution_count": 11,
      "id": "7f624143-da20-4cb9-ba08-b2618b4fdece",
      "metadata": {
        "id": "7f624143-da20-4cb9-ba08-b2618b4fdece"
      },
      "outputs": [
        {
          "name": "stdout",
          "output_type": "stream",
          "text": [
            "Solution found:\n",
            "[[0 0 0 5]\n",
            " [0 0 0 4]\n",
            " [0 0 2 1]]\n",
            "Over capacity: \n",
            "\u001b[32mContainer 0: 0 / 10\n",
            "\u001b[32mContainer 1: 0 / 10\n",
            "\u001b[32mContainer 2: 10 / 10\n",
            "\u001b[31mContainer 3: 27 / 10\n",
            "\u001b[0m\n"
          ]
        }
      ],
      "source": [
        "\"\"\"\n",
        "TODO: Debug this model.\n",
        "\"\"\"\n",
        "\n",
        "# Decision Variables\n",
        "# - x[i, j] represents how many units of good i are placed in container j\n",
        "x = cp.intvar(0, 5, shape=(3, 4), name=\"x\")  # 3 types of goods, 4 containers\n",
        "\n",
        "# Model\n",
        "model = cp.Model()\n",
        "\n",
        "# Constraints:\n",
        "# 1. Each container can hold a maximum of 10 units of goods\n",
        "for j in range(4):\n",
        "    model += [cp.sum(x[:, j]) <= 10]  # Total units of goods in container j\n",
        "# 2. The warehouse must store exactly 5 units of good A, 4 units of good B, and 3 units of good C\n",
        "model += [cp.sum(x[0, :]) == 5]  # 5 units of good A\n",
        "model += [cp.sum(x[1, :]) == 4]  # 4 units of good B\n",
        "model += [cp.sum(x[2, :]) == 3]  # 3 units of good C\n",
        "\n",
        "# Solve the model\n",
        "if model.solve():\n",
        "    print(\"Solution found:\")\n",
        "    print(x.value())\n",
        "    print(used_capacity(x.value()))\n",
        "else:\n",
        "    print(\"No solution found.\")"
      ]
    },
    {
      "cell_type": "markdown",
      "id": "9a1cfae9",
      "metadata": {},
      "source": [
        "We forgot to take the 'units of space' for each of the items into account when calculating the used capacity."
      ]
    },
    {
      "cell_type": "code",
      "execution_count": 12,
      "id": "b314f33a",
      "metadata": {},
      "outputs": [
        {
          "name": "stdout",
          "output_type": "stream",
          "text": [
            "Solution found:\n",
            "[[0 1 0 4]\n",
            " [0 1 3 0]\n",
            " [2 1 0 0]]\n",
            "OK: \n",
            "\u001b[32mContainer 0: 10 / 10\n",
            "\u001b[32mContainer 1: 10 / 10\n",
            "\u001b[32mContainer 2: 9 / 10\n",
            "\u001b[32mContainer 3: 8 / 10\n",
            "\u001b[0m\n"
          ]
        }
      ],
      "source": [
        "\"\"\"\n",
        "TODO: Debug this model.\n",
        "\"\"\"\n",
        "\n",
        "# Parameters of the Problem\n",
        "# - space requirements for each type of good: A takes 2 units, B takes 3 units, C takes 5 units\n",
        "space_requirements = [2, 3, 5]\n",
        "\n",
        "# Decision Variables\n",
        "# - x[i, j] represents how many units of good i are placed in container j\n",
        "x = cp.intvar(0, 5, shape=(3, 4), name=\"x\")  # 3 types of goods, 4 containers\n",
        "\n",
        "# Model\n",
        "model = cp.Model()\n",
        "\n",
        "# Constraints:\n",
        "# 1. Each container can hold a maximum of 10 units of goods, accounting for space requirements\n",
        "for j in range(4):\n",
        "    model += cp.sum(x[:, j] * space_requirements) <= 10\n",
        "# 2. The warehouse must store exactly 5 units of good A, 4 units of good B, and 3 units of good C\n",
        "model += [cp.sum(x[0, :]) == 5]  # 5 units of good A\n",
        "model += [cp.sum(x[1, :]) == 4]  # 4 units of good B\n",
        "model += [cp.sum(x[2, :]) == 3]  # 3 units of good C\n",
        "\n",
        "# Solve the model\n",
        "if model.solve():\n",
        "    print(\"Solution found:\")\n",
        "    print(x.value())\n",
        "    print(used_capacity(x.value()))\n",
        "else:\n",
        "    print(\"No solution found.\")"
      ]
    }
  ],
  "metadata": {
    "colab": {
      "collapsed_sections": [
        "631d1223-f180-4252-9ce7-f673babb8d54",
        "bed09014-e951-4c40-987d-96049ead17fa",
        "9b17d1d8-0cee-4f78-9104-7dd877e3a2b1",
        "b48601d4-a08b-48d3-bd19-5507e394d72f",
        "4aab7590-9a24-47f8-9959-5d0b1a2fa1df",
        "fee22432-9b50-4533-a123-27cc650d7c86",
        "d2f92a8f-a573-48e4-ae98-a41f1b4d9bea",
        "1506b186-4008-4a1d-b96e-39cf4e81e756",
        "7e0abbc5-6f28-451c-95c2-37d54936b1a9",
        "183ec138-8777-49ae-968b-14ca3b179f71",
        "5d48fd6b-7f0d-4409-bc8b-5259abb270cc",
        "a4eb7fd0-79ab-438d-b020-f8d3e703ae80",
        "68924303-2149-4994-9867-2633ef970ecb",
        "70a12206-71f0-4077-b193-8baa9d1ddbf5",
        "e18de112-45cf-4aba-a9f2-f8d34dfba7bc",
        "f2a5dd4e-4363-484b-9643-6b84e62269bc",
        "dbbc6e55-83e9-4e00-bc9a-fab700239ceb",
        "54f8e2a0-b4cd-43f3-a3cd-0fbd451ac95f",
        "43314ab2-d2e9-4895-a089-79b103497cf0",
        "9c5099f7-ec5b-430a-bfa4-654f472c4c71",
        "dff41ccd-52d9-427b-9bb7-9bd33fd0f464",
        "8c997671-cd36-48f7-9fd8-6d6037205290",
        "76941512-45c6-4a9c-951b-ae6b6d8941bf",
        "3ed2b5f6-6bd0-4d4c-bc9f-4e6cda431822"
      ],
      "provenance": [],
      "toc_visible": true
    },
    "kernelspec": {
      "display_name": "Python 3 (ipykernel)",
      "language": "python",
      "name": "python3"
    },
    "language_info": {
      "codemirror_mode": {
        "name": "ipython",
        "version": 3
      },
      "file_extension": ".py",
      "mimetype": "text/x-python",
      "name": "python",
      "nbconvert_exporter": "python",
      "pygments_lexer": "ipython3",
      "version": "3.11.9"
    }
  },
  "nbformat": 4,
  "nbformat_minor": 5
}
