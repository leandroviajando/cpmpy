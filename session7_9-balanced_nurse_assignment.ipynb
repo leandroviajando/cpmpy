{
 "cells": [
  {
   "cell_type": "markdown",
   "metadata": {},
   "source": [
    "# Additional Modelling Challenges\n",
    "\n",
    "## Balanced Nurse Assignment\n",
    "\n",
    "Given a set of patients distributed in a number of hospital zones and an available nursing staff, one must assign a nurse to each patient in such a way that the work is distributed evenly between nurses.\n",
    "\n",
    "1. Each patient is assigned an acuity level corresponding to the amount of care he requires.\n",
    "2. The workload of a nurse is defined as the sum of the acuities of the patients he cares for.\n",
    "3. A nurse can only work in one zone.\n",
    "\n",
    "This problem has two connected aspects:\n",
    "\n",
    "- Nurses need to be assigned to zones.\n",
    "- Patients of that zone have to be assigned to nurses.\n",
    "\n",
    "Balance the workloads by minimizing their standard deviation."
   ]
  },
  {
   "cell_type": "code",
   "execution_count": 1,
   "metadata": {},
   "outputs": [
    {
     "name": "stdout",
     "output_type": "stream",
     "text": [
      "Solution found!\n",
      "Patients' acuity levels: [4, 1, 2, 2, 4, 4, 5, 1, 3, 1, 2, 3, 1, 1, 4, 3, 2, 3, 5, 1, 5, 4, 2, 1, 5]\n",
      "Patients' nurses assignments: [3 1 0 2 1 4 3 1 0 3 1 4 3 1 0 2 1 0 2 1 4 3 1 4 2]\n",
      "Nurses' zones assignments: [2 1 0 0 2]\n",
      "Nurses' workloads: [12, 14, 15, 15, 13]\n"
     ]
    }
   ],
   "source": [
    "import cpmpy as cp\n",
    "import random\n",
    "\n",
    "random.seed(42)\n",
    "\n",
    "# Parameters\n",
    "n_nurses = 5\n",
    "n_patients = 25\n",
    "n_zones = 3\n",
    "\n",
    "# 1. Each patient is assigned an acuity level corresponding to the amount of care he requires.\n",
    "patients_acuity_levels = random.choices([1, 2, 3, 4, 5], k=n_patients)\n",
    "patients_zones = [i % n_zones for i in range(n_patients)]\n",
    "\n",
    "# Decision variables\n",
    "patients_nurses = cp.intvar(0, n_nurses - 1, shape=n_patients, name=\"patients_nurses\")  # Nurses assigned to patients\n",
    "nurses_zones = cp.intvar(0, n_zones - 1, shape=n_nurses, name=\"nurses_zones\")  # Zones assigned to nurses\n",
    "\n",
    "# Workload variables\n",
    "nurses_workloads = cp.intvar(0, sum(patients_acuity_levels), shape=n_nurses, name=\"nurses_workloads\")\n",
    "\n",
    "model = cp.Model()\n",
    "\n",
    "# 2. The workload of a nurse is defined as the sum of the acuities of the patients he cares for.\n",
    "for n in range(n_nurses):\n",
    "    model += nurses_workloads[n] == cp.sum(\n",
    "        [patients_acuity_levels[p] * (patients_nurses[p] == n) for p in range(n_patients)]\n",
    "    )\n",
    "\n",
    "# 3. A nurse can only work in one zone\n",
    "for p in range(n_patients):\n",
    "    model += (nurses_zones[patients_nurses[p]] == patients_zones[p])\n",
    "\n",
    "# Balance the workloads by minimizing their variance\n",
    "mean_workload = cp.sum(nurses_workloads) // n_nurses\n",
    "variance = cp.sum((nurses_workloads - mean_workload)**2) // n_nurses\n",
    "model.minimize(variance)\n",
    "\n",
    "# Solve the model\n",
    "if model.solve():\n",
    "    print(\"Solution found!\")\n",
    "    print(\"Patients' acuity levels:\", patients_acuity_levels)\n",
    "    print(\"Patients' nurses assignments:\", patients_nurses.value())\n",
    "    print(\"Nurses' zones assignments:\", nurses_zones.value())\n",
    "    print(\"Nurses' workloads:\", [nurses_workloads[n].value() for n in range(n_nurses)])\n",
    "else:\n",
    "    print(\"No solution found.\")"
   ]
  },
  {
   "cell_type": "code",
   "execution_count": 2,
   "metadata": {},
   "outputs": [
    {
     "name": "stdout",
     "output_type": "stream",
     "text": [
      "0 2 [2, 3, 4, 3] 12\n",
      "1 1 [1, 4, 1, 2, 1, 2, 1, 2] 14\n",
      "2 0 [2, 3, 5, 5] 15\n",
      "3 0 [4, 5, 1, 1, 4] 15\n",
      "4 2 [4, 3, 5, 1] 13\n",
      "69\n"
     ]
    }
   ],
   "source": [
    "nurses_workload = 0\n",
    "for nurse in range(n_nurses):\n",
    "    nurse_patients = [idx for idx, value in enumerate(patients_nurses.value()) if value == nurse]\n",
    "    nurse_workloads = [patients_acuity_levels[p] for p in nurse_patients]\n",
    "    nurse_workload = sum(nurse_workloads)\n",
    "    nurses_workload += nurse_workload\n",
    "    nurse_zone = nurses_zones[nurse].value()\n",
    "\n",
    "    print(nurse, nurse_zone, nurse_workloads, nurse_workload)\n",
    "assert nurses_workload == sum(patients_acuity_levels)\n",
    "print(nurses_workload)"
   ]
  }
 ],
 "metadata": {
  "kernelspec": {
   "display_name": ".venv",
   "language": "python",
   "name": "python3"
  },
  "language_info": {
   "codemirror_mode": {
    "name": "ipython",
    "version": 3
   },
   "file_extension": ".py",
   "mimetype": "text/x-python",
   "name": "python",
   "nbconvert_exporter": "python",
   "pygments_lexer": "ipython3",
   "version": "3.11.9"
  }
 },
 "nbformat": 4,
 "nbformat_minor": 2
}
