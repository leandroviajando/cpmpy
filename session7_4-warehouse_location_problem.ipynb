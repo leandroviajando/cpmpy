{
 "cells": [
  {
   "cell_type": "markdown",
   "metadata": {},
   "source": [
    "# Additional Modelling Challenges\n",
    "\n",
    "## Warehouse Location Problem\n",
    "\n",
    "A company is considering opening warehouses at some candidate locations in order to supply its existing stores.\n",
    "\n",
    "1. The potential cities for these warehouses are New York, Los Angeles, Chicago, and Atlanta.\n",
    "2. Each possible warehouse has the same maintenance cost, and a capacity designating the maximum number of stores that it can supply.\n",
    "3. The supply cost to a store is different for each warehouse.\n",
    "4. Each store must be supplied by exactly one open warehouse.\n",
    "\n",
    "The company needs to decide which warehouses to open based on several constraints:\n",
    "\n",
    "1. If the New York warehouse is opened, then the Los Angeles warehouse must also be opened.\n",
    "2. No more than three warehouses can be operational.\n",
    "3. Either the Atlanta or the Los Angeles warehouse must be opened.\n",
    "\n",
    "The objective is to determine the optimal set of warehouses to open, and which of these warehouses should supply the various stores so that supply costs are minimized.\n",
    "Supply costs for each warehouse-store combination should be given."
   ]
  },
  {
   "cell_type": "code",
   "execution_count": 1,
   "metadata": {},
   "outputs": [
    {
     "name": "stdout",
     "output_type": "stream",
     "text": [
      "Warehouse capacities: [13, 12, 9, 7]\n",
      "Store supply costs by warehouse: [[3, 2, 4, 2], [2, 3, 4, 3], [2, 4, 3, 2], [4, 4, 4, 4], [2, 3, 4, 3], [2, 1, 2, 3], [4, 4, 2, 4], [2, 4, 3, 1], [3, 2, 4, 3], [1, 2, 4, 1], [2, 4, 1, 3], [1, 4, 4, 2], [1, 2, 3, 4], [1, 3, 3, 3], [4, 3, 4, 3], [3, 2, 3, 2], [3, 2, 1, 1], [3, 3, 2, 1], [4, 4, 4, 4], [4, 4, 3, 2], [3, 2, 4, 4], [4, 3, 4, 3], [2, 3, 4, 4], [4, 1, 3, 2], [3, 4, 1, 3]]\n",
      "Solution found!\n",
      "Open warehouses: ['NYC', 'LA', 'CHI']\n",
      "Store supplied by warehouse: [1 0 0 1 0 1 2 0 1 0 2 0 0 0 1 1 2 2 0 2 1 1 0 1 2]\n",
      "Cost: [2, 2, 2, 4, 2, 1, 2, 2, 2, 1, 1, 1, 1, 1, 3, 2, 1, 2, 4, 3, 2, 3, 2, 1, 1] Total: 48\n"
     ]
    }
   ],
   "source": [
    "import cpmpy as cp\n",
    "import random\n",
    "\n",
    "random.seed(0)\n",
    "\n",
    "# Parameters\n",
    "# 1. The potential cities for these warehouses are New York, Los Angeles, Chicago, and Atlanta.\n",
    "NYC, LA, CHI, ATL = 0, 1, 2, 3\n",
    "max_n_warehouses = len([NYC, LA, CHI, ATL])\n",
    "# 2. Each possible warehouse has the same maintenance cost, and a capacity designating the maximum number of stores that it can supply.\n",
    "warehouse_maintenance_cost = 1\n",
    "warehouse_capacity = random.choices(range(5, 15), k=max_n_warehouses)\n",
    "print(\"Warehouse capacities:\", warehouse_capacity)\n",
    "# 3. The supply cost to a store is different for each warehouse.\n",
    "n_stores = 25\n",
    "store_supply_cost_by_warehouse = [random.choices(range(1, max_n_warehouses+1), k=max_n_warehouses) for _ in range(n_stores)]\n",
    "print(\"Store supply costs by warehouse:\", store_supply_cost_by_warehouse)\n",
    "\n",
    "model = cp.Model()\n",
    "\n",
    "# Decision variables\n",
    "# 4. Each store must be supplied by exactly one open warehouse.\n",
    "warehouse_open = cp.boolvar(shape=max_n_warehouses)\n",
    "store_supplier = cp.intvar(0, max_n_warehouses-1, shape=n_stores)\n",
    "\n",
    "# Constraints\n",
    "for wh in range(max_n_warehouses):\n",
    "    # 2. Each possible warehouse has the same maintenance cost, and a capacity designating the maximum number of stores that it can supply.\n",
    "    model += cp.sum([store_supplier[st] == wh for st in range(n_stores)]) <= warehouse_capacity[wh]\n",
    "    # 4. Each store must be supplied by exactly one open warehouse.\n",
    "    model += [(store_supplier[st] == wh).implies(warehouse_open[wh]) for st in range(n_stores)]\n",
    "\n",
    "# 1. If the New York warehouse is opened, then the Los Angeles warehouse must also be opened.\n",
    "model += warehouse_open[NYC].implies(warehouse_open[LA])\n",
    "\n",
    "# 2. No more than three warehouses can be operational.\n",
    "model += warehouse_open.sum() <= 3\n",
    "\n",
    "# 3. Either the Atlanta or the Los Angeles warehouse must be opened.\n",
    "model += warehouse_open[ATL] | warehouse_open[LA]\n",
    "\n",
    "# The objective is to determine the optimal set of warehouses to open, and which of these warehouses should supply the various stores so that supply costs are minimized.\n",
    "cost = [cp.Element(store_supply_cost_by_warehouse[i], store_supplier[i]) for i in range(n_stores)]\n",
    "total_cost = cp.sum(cost)\n",
    "model.minimize(total_cost)\n",
    "\n",
    "if model.solve():\n",
    "    print(\"Solution found!\")\n",
    "    print(\"Open warehouses:\", [key for key, value in {\"NYC\": NYC, \"LA\": LA, \"CHI\": CHI, \"ATL\": ATL}.items() if warehouse_open.value()[value]])\n",
    "    print(\"Store supplied by warehouse:\", store_supplier.value())\n",
    "    print(\"Cost:\", [c.value() for c in cost], \"Total:\", total_cost.value())\n",
    "else:\n",
    "    print(\"No solution found.\")"
   ]
  }
 ],
 "metadata": {
  "kernelspec": {
   "display_name": ".venv",
   "language": "python",
   "name": "python3"
  },
  "language_info": {
   "codemirror_mode": {
    "name": "ipython",
    "version": 3
   },
   "file_extension": ".py",
   "mimetype": "text/x-python",
   "name": "python",
   "nbconvert_exporter": "python",
   "pygments_lexer": "ipython3",
   "version": "3.11.9"
  }
 },
 "nbformat": 4,
 "nbformat_minor": 2
}
