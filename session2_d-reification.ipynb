{
  "cells": [
    {
      "cell_type": "markdown",
      "id": "5eb7a3cc-ef34-4f01-806a-feab5cb7bb3d",
      "metadata": {
        "id": "5eb7a3cc-ef34-4f01-806a-feab5cb7bb3d"
      },
      "source": [
        "# Exercises for the course \"Declarative Problem Solving Paradigms in AI\""
      ]
    },
    {
      "cell_type": "code",
      "execution_count": 1,
      "id": "155d826c-cdad-489e-bbb0-2a8aa7e5c3a4",
      "metadata": {
        "id": "155d826c-cdad-489e-bbb0-2a8aa7e5c3a4"
      },
      "outputs": [],
      "source": [
        "# Imports (some dependency errors may appear, you can ignore them for now)\n",
        "# !pip install cpmpy numpy colorama networkx matplotlib requests z3-solver --quiet\n",
        "\n",
        "import cpmpy as cp"
      ]
    },
    {
      "cell_type": "markdown",
      "id": "473a2ff9-26bd-4c40-8272-0c718a1e4d75",
      "metadata": {
        "id": "473a2ff9-26bd-4c40-8272-0c718a1e4d75"
      },
      "source": [
        "## **Session 2: Reification, solving, debugging and explaining**"
      ]
    },
    {
      "cell_type": "markdown",
      "id": "a0f3f260-2fdd-433c-a58c-b8ec63792e11",
      "metadata": {
        "id": "a0f3f260-2fdd-433c-a58c-b8ec63792e11"
      },
      "source": [
        "Welcome to the second exercise session of Declarative Problem Solving Paradigms in AI. In this session, we will cover a collection of concepts you would need to master as to efficiently and effectively create Constraint Programming models of your own:\n",
        "\n",
        "\n",
        "1) Debugging\n",
        "\n",
        "2) Solving\n",
        "\n",
        "3) Explaining\n",
        "\n",
        "4) Reification\n",
        "\n",
        "We will cover each of them in a separate section; guiding you through an example, followed by a modelling exercise.\n",
        "\n",
        "**Useful Resources:**\n",
        "* CPMpy documentation: https://cpmpy.readthedocs.io/en/latest/index.html\n",
        "* CPMpy quickstart: https://cpmpy.readthedocs.io/en/latest/modeling.html"
      ]
    },
    {
      "cell_type": "markdown",
      "id": "8c997671-cd36-48f7-9fd8-6d6037205290",
      "metadata": {
        "id": "8c997671-cd36-48f7-9fd8-6d6037205290",
        "jp-MarkdownHeadingCollapsed": true
      },
      "source": [
        "### **Part 4: Reification**"
      ]
    },
    {
      "cell_type": "markdown",
      "id": "f698f1a5-9ec6-4897-9941-f83b0434715f",
      "metadata": {
        "id": "f698f1a5-9ec6-4897-9941-f83b0434715f"
      },
      "source": [
        "In this section, we'll delve deeper into the concept of **reification** within the Constraint Programming (CP) paradigm. In the lecture slides, reification was introduced as something that \"*enables the reasoning about the truth of a constraint or a Boolean expression*\".\n",
        "\n",
        "If we have an expression like $(x < y)$, we could directly add it to a model thus enforce it to be $True$ (an inequality constraint over the decision variables `x` and `y`). On the other hand, we can also introduce a new boolean decision variable `b` and use it to instead reify the constraint. The reification is $b \\leftrightarrow (x < y)$, which in CPMpy gets written as `b == (x < y)`.\n",
        "\n",
        "`b` is known as the reified variable. `b` now allows us to reason about the original expression (without necessarily enforcing it).\n",
        "\n",
        "As seen in the course, reification is a powerfull mechanism that enables:\n",
        "- higher-level modelling\n",
        "- efficient reuse of logical components through their reified variable\n",
        "\n",
        "It allows for modeling techniques such as **\"soft constraints\"** (where constraints are not enforced, but a penalty is added for their violations) and **\"conditional constraints\"** (constraints that are only enforced when a certain condition is met, i.e. if another expression evaluates to $True$).\n"
      ]
    },
    {
      "cell_type": "markdown",
      "id": "2a8f788d",
      "metadata": {},
      "source": [
        "#### Setup"
      ]
    },
    {
      "cell_type": "code",
      "execution_count": 2,
      "id": "e622c70c",
      "metadata": {},
      "outputs": [],
      "source": [
        "# Support code\n",
        "\n",
        "import re\n",
        "\n",
        "import networkx as nx\n",
        "import matplotlib.pyplot as plt\n",
        "import requests\n",
        "from PIL import Image\n",
        "from matplotlib.offsetbox import OffsetImage, AnnotationBbox\n",
        "from io import BytesIO\n",
        "from cpmpy.expressions.utils import flatlist\n",
        "\n",
        "# Function to download emoji image from the web\n",
        "def download_emoji(emoji_code):\n",
        "    response = requests.get(f\"https://github.com/twitter/twemoji/raw/master/assets/72x72/{emoji_code}.png\")\n",
        "    return Image.open(BytesIO(response.content)).convert('RGBA')  # Convert to RGBA for transparency support\n",
        "\n",
        "# Function to convert emoji to unicode code for image link (e.g., 😃 -> 1f603)\n",
        "def emoji_to_unicode(emoji):\n",
        "    return '-'.join(f\"{ord(c):x}\" for c in emoji)\n",
        "\n",
        "# Function to show a nice graph of the students and their wishes\n",
        "def show_graph(people, wishes, pos=None, conflict=[], correction=[], satisfiable=[]):\n",
        "    # Check solution legality\n",
        "    if pos is not None:\n",
        "        if len(set(pos)) < len(pos):\n",
        "            raise ValueError('Two students are standing at the same location, this is not allowed!')\n",
        "\n",
        "    # Create networkX graph\n",
        "    G = nx.Graph()\n",
        "    G.add_nodes_from(list(range(len(people))))\n",
        "    G.add_edges_from([(who, whom) for (who,whom) in wishes])\n",
        "    nx_pos = nx.circular_layout(G)\n",
        "\n",
        "    # Create figure\n",
        "    fig, ax = plt.subplots()\n",
        "    nx.draw(G, nx_pos, with_labels=False, node_size=2000, node_color=\"white\", font_size=20, font_color=\"black\", ax=ax)\n",
        "    nx.draw_networkx_labels(G, nx_pos)\n",
        "\n",
        "    conflict = flatlist(conflict)\n",
        "    correction = flatlist(correction)\n",
        "    satisfiable = flatlist(satisfiable)\n",
        "\n",
        "    conflict_edges = []\n",
        "    for c in conflict:\n",
        "        if c.name == \"alldifferent\": continue\n",
        "        n1, n2 = c.args\n",
        "        if n1.name == \"max\": continue\n",
        "        if n1.name == \"abs\": n1, n2 = n1.args[0].args\n",
        "        a = int(re.search(\"\\[[0-9]*\\]\", str(n1)).group()[1:-1])\n",
        "        b = int(re.search(\"\\[[0-9]*\\]\", str(n2)).group()[1:-1])\n",
        "        conflict_edges.append((min(a, b), max(a, b)))\n",
        "\n",
        "    sat_edges = []\n",
        "    for c in satisfiable:\n",
        "        if c.name == \"alldifferent\": continue\n",
        "        n1, n2 = c.args\n",
        "        if n1.name == \"max\": continue\n",
        "        if n1.name == \"abs\": n1, n2 = n1.args[0].args\n",
        "        a = int(re.search(\"\\[[0-9]*\\]\", str(n1)).group()[1:-1])\n",
        "        b = int(re.search(\"\\[[0-9]*\\]\", str(n2)).group()[1:-1])\n",
        "        sat_edges.append((min(a, b), max(a, b)))\n",
        "\n",
        "    correction_edges = []\n",
        "    for c in correction:\n",
        "        if c.name == \"alldifferent\": continue\n",
        "        n1, n2 = c.args\n",
        "        if n1.name == \"max\": continue\n",
        "        if n1.name == \"abs\": n1, n2 = n1.args[0].args\n",
        "        a = int(re.search(\"\\[[0-9]*\\]\", str(n1)).group()[1:-1])\n",
        "        b = int(re.search(\"\\[[0-9]*\\]\", str(n2)).group()[1:-1])\n",
        "        correction_edges.append((min(a, b), max(a, b)))\n",
        "\n",
        "    colors = [\"red\" if (a, b) in conflict_edges else (\"green\" if (a,b) in sat_edges else (\"orange\" if (a,b) in correction_edges else \"black\")) for (a, b) in G.edges()]\n",
        "\n",
        "    # Color edges\n",
        "    nx.draw_networkx_edges(G, nx_pos, edgelist=G.edges(), edge_color=colors, width=2, ax=ax)\n",
        "    if pos is not None: # if a solution position is provided\n",
        "        green_edges = [wish for wish in wishes if abs(pos[wish[0]] - pos[wish[1]]) == 1]\n",
        "        nx.draw_networkx_edges(G, nx_pos, edgelist=G.edges(), edge_color='red', width=2, ax=ax)\n",
        "        nx.draw_networkx_edges(G, nx_pos, edgelist=green_edges, edge_color='green', width=2, ax=ax)\n",
        "\n",
        "    # Loop through nodes and place emoji images on them\n",
        "    for node, (x, y) in nx_pos.items():\n",
        "        emoji_unicode = emoji_to_unicode(people[node])\n",
        "        emoji_img = download_emoji(emoji_unicode)\n",
        "        imagebox = OffsetImage(emoji_img, zoom=0.5)\n",
        "        ab = AnnotationBbox(imagebox, (x, y), frameon=False)\n",
        "        ax.add_artist(ab)\n",
        "\n",
        "    plt.tight_layout()\n",
        "    plt.show()"
      ]
    },
    {
      "cell_type": "markdown",
      "id": "76941512-45c6-4a9c-951b-ae6b6d8941bf",
      "metadata": {
        "id": "76941512-45c6-4a9c-951b-ae6b6d8941bf",
        "jp-MarkdownHeadingCollapsed": true
      },
      "source": [
        "#### **1. Alignment Photo Problem**"
      ]
    },
    {
      "cell_type": "markdown",
      "id": "89a7a370-f9ce-4b32-85b4-b3bb35ecb019",
      "metadata": {
        "id": "89a7a370-f9ce-4b32-85b4-b3bb35ecb019"
      },
      "source": [
        "In this exercise, we'll see how to use reification as a means to post expressions as **soft constraints**.\n",
        "\n",
        "We'll revisit the \"Alignment Photo Problem\" from the explanation section. Copy-and-paste your previous implementation below."
      ]
    },
    {
      "cell_type": "code",
      "execution_count": 3,
      "id": "ed4e9875-135d-4623-8bba-a9fc4a95eba9",
      "metadata": {
        "id": "ed4e9875-135d-4623-8bba-a9fc4a95eba9"
      },
      "outputs": [],
      "source": [
        "def photo_alignment(students, wishes):\n",
        "    N = len(students)\n",
        "\n",
        "    # Decision variables\n",
        "    pos = cp.intvar(0, N-1, shape=N)\n",
        "\n",
        "    # Model\n",
        "    model = cp.Model()\n",
        "\n",
        "    # Constraints\n",
        "    \"\"\"\n",
        "    TODO: Copy-and-paste your previous implementation here.\n",
        "    \"\"\"\n",
        "    model += cp.AllDifferent(pos)\n",
        "    model += [cp.abs(pos[wish[0]] - pos[wish[1]]) == 1 for wish in wishes]\n",
        "\n",
        "    # Solve\n",
        "    sat = model.solve()\n",
        "\n",
        "    # Show solution\n",
        "    if sat:\n",
        "        print(\"Found a solution:\")\n",
        "        print(f\"Student positions: {pos.value()}\")\n",
        "    else:\n",
        "        print(\"Problem is UNSAT\")\n",
        "\n",
        "    return model, pos"
      ]
    },
    {
      "cell_type": "markdown",
      "id": "f4f97844-b4af-4fd0-83c3-9efb5721e9e9",
      "metadata": {
        "id": "f4f97844-b4af-4fd0-83c3-9efb5721e9e9"
      },
      "source": [
        "If we run the problem again on the second set of wishes, we will again get UNSAT."
      ]
    },
    {
      "cell_type": "code",
      "execution_count": 4,
      "id": "b8d7abf3-d958-450b-88bc-77831ee19537",
      "metadata": {
        "id": "b8d7abf3-d958-450b-88bc-77831ee19537"
      },
      "outputs": [
        {
          "name": "stdout",
          "output_type": "stream",
          "text": [
            "Problem is UNSAT\n"
          ]
        }
      ],
      "source": [
        "# Parameters of the problem\n",
        "students = [\"😀\", \"😇\", \"😎\", \"🤠\", \"🤩\", \"🧐\", \"🤕\"]\n",
        "wishes = [(1, 4), (4, 0), (5, 4), (5, 2), (2, 1), (6, 4), (3, 0), (4, 2), (6, 3), (0, 5)] # pairs of indexes into the list of students\n",
        "\n",
        "model, pos = photo_alignment(students, wishes)"
      ]
    },
    {
      "cell_type": "markdown",
      "id": "7d298b7a-4227-4c30-931a-116cb478bea0",
      "metadata": {
        "id": "7d298b7a-4227-4c30-931a-116cb478bea0"
      },
      "source": [
        "In the previous section we explained what needed to be corrected (i.e. which wishes would need to be dropped) to make the problem SAT. The result was an MCS; a minimal set of constraints which can be removed from the original problem in order to make it SAT. So now we can manually remove those constraints and the model should become solvable.\n",
        "\n",
        "An alternative approach would be to use reification. From the MCS we got the insight that we have too many \"wishes\", resulting in conflicts. Modeling these wishes as \"**soft**\" instead of \"**hard**\" constraints and maximizing the number of satisfied wishes, will give a similar result without having to manually start removing constraints.\n"
      ]
    },
    {
      "cell_type": "markdown",
      "id": "897191a1-9b5e-41b8-b4fc-8ae60c2bcf0a",
      "metadata": {
        "id": "897191a1-9b5e-41b8-b4fc-8ae60c2bcf0a"
      },
      "source": [
        "Re-implement the model, but now make use of **reification** as to **maximize the number of satisfied wishes**."
      ]
    },
    {
      "cell_type": "code",
      "execution_count": 5,
      "id": "1f100b6b-5b69-4bcf-8fde-23873e1b9f38",
      "metadata": {
        "id": "1f100b6b-5b69-4bcf-8fde-23873e1b9f38"
      },
      "outputs": [
        {
          "name": "stdout",
          "output_type": "stream",
          "text": [
            "Found a solution:\n",
            "Student positions: [3 0 1 4 6 2 5]\n",
            "6 satisfied wishes\n"
          ]
        }
      ],
      "source": [
        "# Parameters of the problem\n",
        "students = [\"😀\", \"😇\", \"😎\", \"🤠\", \"🤩\", \"🧐\", \"🤕\"]\n",
        "wishes = [(1, 4), (4, 0), (5, 4), (5, 2), (2, 1), (6, 4), (3, 0), (4, 2), (6, 3), (0, 5)] # pairs of indexes into the list of students\n",
        "\n",
        "def photo_alignment(students, wishes):\n",
        "    N = len(students)\n",
        "    M = len(wishes)\n",
        "\n",
        "    # Decision variables - TODO\n",
        "    pos = cp.intvar(0, N-1, shape=N)\n",
        "    \"\"\"\n",
        "    TODO: Introduce new reified variables, one for each student wish indicating whether or not it is satisfied.\n",
        "    \"\"\"\n",
        "    # ┌────SOLUTION────┐\n",
        "    B = cp.boolvar(shape=M) # for each of the \"wish\"-constraints,\n",
        "                            # a boolean variable to reify it and make\n",
        "                            # it a soft-constraint\n",
        "    # └────────────────┘\n",
        "\n",
        "    # Model\n",
        "    model = cp.Model()\n",
        "\n",
        "    # Constraints - TODO\n",
        "    \"\"\"\n",
        "    TODO: Fill in the constraints according to the problem description whilst maximizing the number of satisfied student wishes.\n",
        "\n",
        "    HINT: Reify the student wishes and maximize the number of 'true' reified variables.\n",
        "    \"\"\"\n",
        "\n",
        "    model += cp.AllDifferent(pos) # only one student can stand at each location\n",
        "    model += [b == (cp.abs(pos[wish[0]] - pos[wish[1]]) == 1) for (wish, b) in zip(wishes, B)]\n",
        "\n",
        "    # Objective - TODO\n",
        "    \"\"\"\n",
        "    TODO: Maximize the number of satisfied wishes.\n",
        "    \"\"\"\n",
        "    model.maximize(cp.sum(B)) # Update the argument\n",
        "\n",
        "    # Solve\n",
        "    sat = model.solve()\n",
        "\n",
        "    # Show solution\n",
        "    if sat:\n",
        "        print(\"Found a solution:\")\n",
        "        print(f\"Student positions: {pos.value()}\")\n",
        "        print(f\"{sum([abs(pos.value()[who] - pos.value()[whom]) == 1 for (who, whom) in wishes])} satisfied wishes\")\n",
        "    else:\n",
        "        print(\"Problem is UNSAT\")\n",
        "\n",
        "    return model, pos\n",
        "\n",
        "model, pos = photo_alignment(students, wishes)"
      ]
    },
    {
      "cell_type": "markdown",
      "id": "83022241-28e1-415a-8160-8e4cefb19920",
      "metadata": {
        "id": "83022241-28e1-415a-8160-8e4cefb19920"
      },
      "source": [
        "How many wishes were you able to satisfy? It should be 6.\n",
        "\n",
        "If the solution looks good, we can again try to visualize it as a graph:"
      ]
    },
    {
      "cell_type": "code",
      "execution_count": 6,
      "id": "4992c5db-e66c-4cd1-a29a-a8adc15596ae",
      "metadata": {
        "id": "4992c5db-e66c-4cd1-a29a-a8adc15596ae"
      },
      "outputs": [
        {
          "data": {
            "image/png": "[encoded data removed]",
            "text/plain": [
              "<Figure size 640x480 with 1 Axes>"
            ]
          },
          "metadata": {},
          "output_type": "display_data"
        }
      ],
      "source": [
        "show_graph(students, wishes, pos=pos.value())"
      ]
    },
    {
      "cell_type": "markdown",
      "id": "0bcc6bda-ba6f-463c-9fae-fc091c487b94",
      "metadata": {
        "id": "0bcc6bda-ba6f-463c-9fae-fc091c487b94"
      },
      "source": [
        "4 wishes will need to be compromised on, the exact same conclusion as we made in the 'Explaining' section when using an MCS. We just implemented the \"wishes\" as **soft constraints**. The reification allowed us to reason over these constraints and maximize the amount of satisfied ones.\n",
        "\n",
        "I hope you can see the parallels between both approaches we took to make the problem satisfiable; calculating an MSS/MCS to see/explain which constraints need to be dropped manually OR reifying the constraints and having a \"higher-level\" model that reasons over these soft-constraints and tries to satisfy as many of them as possible.\n",
        "\n",
        "This parallel was to be expected, because many of the explanation techniques actually make use of reification in their algorithms because it allows us to \"reason\" over constraints.\n",
        "\n"
      ]
    },
    {
      "cell_type": "markdown",
      "id": "3ed2b5f6-6bd0-4d4c-bc9f-4e6cda431822",
      "metadata": {
        "id": "3ed2b5f6-6bd0-4d4c-bc9f-4e6cda431822",
        "jp-MarkdownHeadingCollapsed": true
      },
      "source": [
        "#### **2. Task allocation problem**:"
      ]
    },
    {
      "cell_type": "markdown",
      "id": "d2d40c12-0eb6-48b8-a22c-ef8ab748df51",
      "metadata": {
        "id": "d2d40c12-0eb6-48b8-a22c-ef8ab748df51"
      },
      "source": [
        "In this exercise, we'll see how to use reification for modeling **conditional constraints**."
      ]
    },
    {
      "cell_type": "markdown",
      "id": "7a10d83b-7b65-4080-80f7-60d474a215bd",
      "metadata": {
        "id": "7a10d83b-7b65-4080-80f7-60d474a215bd"
      },
      "source": [
        "Your goal is to assign workers to tasks such that:\n",
        "\n",
        "- Each task is assigned to exactly one worker.\n",
        "- Each worker can be assigned to maximally one task.\n",
        "- Additional conditional rules between worker-task assignments must be respected.\n",
        "\n",
        "**Conditional Constraints**:\n",
        "\n",
        "- If worker 0 is assigned to task 0, then worker 1 cannot be assigned to task 2.\n",
        "- If worker 1 is assigned to task 1, then worker 2 must be assigned to task 0.\n",
        "- If worker 2 is assigned to task 2, then worker 0 cannot be assigned to task 1.\n",
        "\n"
      ]
    },
    {
      "cell_type": "markdown",
      "id": "e3ecc921-3a0b-45b2-83f4-284254c4b558",
      "metadata": {
        "id": "e3ecc921-3a0b-45b2-83f4-284254c4b558"
      },
      "source": [
        "In the \"Debugging\" section, we fixed the model for the \"Organizing the Harmony Festival\" problem. There we had a collection of conditional constraints of the type $a \\rightarrow b$ (i.e. if $a$ is $True$ then $b$ must be $True$). In CPMpy this gets modeled using `a.implies(b)`. In that exercise, `a` and `b` were boolean decision variables.\n",
        "\n",
        "Looking at the current problem, the expressions inside the implication are now assignment expression, i.e. $(\\text{worker 0 is assigned to task 0}) \\rightarrow (\\text{worker 1 not on task 2})$.\n",
        "\n",
        "Will this still work?\n"
      ]
    },
    {
      "cell_type": "code",
      "execution_count": 7,
      "id": "df3fdb5d-4e06-42a9-a3b1-d3fc85cd7005",
      "metadata": {
        "id": "df3fdb5d-4e06-42a9-a3b1-d3fc85cd7005"
      },
      "outputs": [
        {
          "name": "stdout",
          "output_type": "stream",
          "text": [
            "Task assignments: [1 3 2]\n"
          ]
        }
      ],
      "source": [
        "# Parameters of the problem\n",
        "n_tasks = 3        # Number of tasks\n",
        "n_workers = 3      # Number of workers\n",
        "\n",
        "# Decision Variables - TODO\n",
        "\"\"\"\n",
        "TODO: Finish the set of decision variables representing which task gets assigned to which worker.\n",
        "\"\"\"\n",
        "task_assignment = cp.intvar(1, n_workers, shape=n_tasks, name=\"task_assignment\") # task_assignment[j] == i iff worker i is assigned to task j\n",
        "\n",
        "\n",
        "# Model\n",
        "model = cp.Model()\n",
        "\n",
        "# Constraints - TODO\n",
        "\"\"\"\n",
        "TODO: Fill in the constraints according to the problem description.\n",
        "\"\"\"\n",
        "# 1) Each task is assigned to exactly one worker.\n",
        "# -> no need to model this constraint, since the chosen encoding for 'task_assignment'\n",
        "#    will already enforce this (each task j can only have one worker task_assignment[j] as value)\n",
        "# 2) Each worker can be assigned to maximally one task.\n",
        "model += cp.AllDifferent(task_assignment)\n",
        "\n",
        "\n",
        "# Reification & Conditional constraints - TODO\n",
        "\"\"\"\n",
        "TODO: Model the conditional constraints, i.e. how the truth value of one expression\n",
        "      determines if another expression gets enforced as a constraint;\n",
        "      e.g. condition_expression -> conditionally_enforced_expression\n",
        "\n",
        "HINT: We've seen in the lectures that CPMpy can automatically create reified variables for us,\n",
        "      giving us the ability to directly formulate the conditional implication between the two expressions.\n",
        "      A benefit of using a high-level modeling language!\n",
        "\n",
        "HINT: Use half-implications 'a -> b' (a.implies(b) in CPMpy).\n",
        "      e.g. ( <worker 0 is assigned to task 0> ).implies( <worker 1 not on task 2> )\n",
        "\"\"\"\n",
        "model += (task_assignment[0] == 0).implies(task_assignment[2] != 1)\n",
        "model += (task_assignment[1] == 1).implies(task_assignment[0] == 2)\n",
        "model += (task_assignment[2] == 2).implies(task_assignment[1] != 0)\n",
        "\n",
        "# Solve the model\n",
        "sat = model.solve()\n",
        "\n",
        "# Print result\n",
        "if sat:\n",
        "    print(\"Task assignments:\", task_assignment.value())\n",
        "else:\n",
        "    print(\"No solution found.\")"
      ]
    },
    {
      "cell_type": "markdown",
      "id": "d8b257e7-1489-4cc7-b7e1-26bac6c672ee",
      "metadata": {
        "id": "d8b257e7-1489-4cc7-b7e1-26bac6c672ee"
      },
      "source": [
        "Check if your solution indeed satisfies all the conditional constraints."
      ]
    },
    {
      "cell_type": "markdown",
      "id": "17b0ffe7-4afa-4037-a5cf-b86fa40e6bf2",
      "metadata": {
        "id": "17b0ffe7-4afa-4037-a5cf-b86fa40e6bf2"
      },
      "source": [
        "How does reification now come into play for this model? We've directly formulated the conditional implications between two expression. As seen in the lectures, this is a high-level modeling feature of CPMpy. Under the hood, reified variables get created and the nested \"implied\" expression gets automatically reified. Fill in one of your \"conditional implication constraints\" from above and see how CPMpy transforms it for you."
      ]
    },
    {
      "cell_type": "code",
      "execution_count": 8,
      "id": "d5df6585-9a6b-4a89-8157-e0e082734610",
      "metadata": {
        "id": "d5df6585-9a6b-4a89-8157-e0e082734610"
      },
      "outputs": [
        {
          "data": {
            "text/plain": [
              "[(task_assignment[0] == 0) -> (BV13), (task_assignment[2] != 1) == (BV13)]"
            ]
          },
          "execution_count": 8,
          "metadata": {},
          "output_type": "execute_result"
        }
      ],
      "source": [
        "from cpmpy.transformations.flatten_model import flatten_constraint\n",
        "\"\"\"\n",
        "TODO: Fill in one of your \"Conditional implications\" and see how CPMpy reifies to for you.\n",
        "\"\"\"\n",
        "# flatten_constraint( (...).implies(...) )\n",
        "flatten_constraint( (task_assignment[0] == 0).implies(task_assignment[2] != 1) )"
      ]
    },
    {
      "cell_type": "markdown",
      "id": "b981305d-3f02-4284-8983-97e3137e5274",
      "metadata": {
        "id": "b981305d-3f02-4284-8983-97e3137e5274"
      },
      "source": [
        "Note how CPMpy reified the \"implied\" expression and then re-used the newly created reified boolean variable in the original implication."
      ]
    },
    {
      "cell_type": "markdown",
      "id": "2030cce8-01c7-4ece-8a9e-3ffa4627a06a",
      "metadata": {
        "id": "2030cce8-01c7-4ece-8a9e-3ffa4627a06a"
      },
      "source": [
        "This exercise was an application of **\"Conditional Constraints\"**, another modeling technique made possible by reification."
      ]
    }
  ],
  "metadata": {
    "colab": {
      "collapsed_sections": [
        "631d1223-f180-4252-9ce7-f673babb8d54",
        "bed09014-e951-4c40-987d-96049ead17fa",
        "9b17d1d8-0cee-4f78-9104-7dd877e3a2b1",
        "b48601d4-a08b-48d3-bd19-5507e394d72f",
        "4aab7590-9a24-47f8-9959-5d0b1a2fa1df",
        "fee22432-9b50-4533-a123-27cc650d7c86",
        "d2f92a8f-a573-48e4-ae98-a41f1b4d9bea",
        "1506b186-4008-4a1d-b96e-39cf4e81e756",
        "7e0abbc5-6f28-451c-95c2-37d54936b1a9",
        "183ec138-8777-49ae-968b-14ca3b179f71",
        "5d48fd6b-7f0d-4409-bc8b-5259abb270cc",
        "a4eb7fd0-79ab-438d-b020-f8d3e703ae80",
        "68924303-2149-4994-9867-2633ef970ecb",
        "70a12206-71f0-4077-b193-8baa9d1ddbf5",
        "e18de112-45cf-4aba-a9f2-f8d34dfba7bc",
        "f2a5dd4e-4363-484b-9643-6b84e62269bc",
        "dbbc6e55-83e9-4e00-bc9a-fab700239ceb",
        "54f8e2a0-b4cd-43f3-a3cd-0fbd451ac95f",
        "43314ab2-d2e9-4895-a089-79b103497cf0",
        "9c5099f7-ec5b-430a-bfa4-654f472c4c71",
        "dff41ccd-52d9-427b-9bb7-9bd33fd0f464",
        "8c997671-cd36-48f7-9fd8-6d6037205290",
        "76941512-45c6-4a9c-951b-ae6b6d8941bf",
        "3ed2b5f6-6bd0-4d4c-bc9f-4e6cda431822"
      ],
      "provenance": [],
      "toc_visible": true
    },
    "kernelspec": {
      "display_name": "Python 3 (ipykernel)",
      "language": "python",
      "name": "python3"
    },
    "language_info": {
      "codemirror_mode": {
        "name": "ipython",
        "version": 3
      },
      "file_extension": ".py",
      "mimetype": "text/x-python",
      "name": "python",
      "nbconvert_exporter": "python",
      "pygments_lexer": "ipython3",
      "version": "3.11.9"
    }
  },
  "nbformat": 4,
  "nbformat_minor": 5
}
