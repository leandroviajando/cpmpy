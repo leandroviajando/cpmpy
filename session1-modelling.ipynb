{
  "cells": [
    {
      "cell_type": "markdown",
      "metadata": {
        "id": "KGlBTcPNobtL"
      },
      "source": [
        "# Exercises for the course \"Declarative Problem Solving Paradigms in AI\"\n"
      ]
    },
    {
      "cell_type": "code",
      "execution_count": 1,
      "metadata": {
        "id": "mQrg5042121f"
      },
      "outputs": [],
      "source": [
        "# Imports (some dependency errors may appear, you can ignore them for now)\n",
        "# !pip install cpmpy numpy --quiet\n",
        "\n",
        "import cpmpy as cp\n",
        "import numpy as np"
      ]
    },
    {
      "cell_type": "markdown",
      "metadata": {
        "id": "A5WpxH1woeAP"
      },
      "source": [
        "## **Session 1: Introduction to CPMpy and Basic Modelling**\n",
        "\n",
        "Welcome to the first exercise session of Declarative Problem Solving Paradigms in AI. In this session, we will be introducing you to constraint programming using the CPMpy framework and working through some modelling exercises. The goal is to help you become familiar with how to formulate/model combinatorial problems using CPMpy.\n",
        "\n",
        "<!-- <strong>Plan for the session:</strong>\n",
        "- Introductory Talk (~20 minutes): Introduction to CPMpy, constraint programming, and how combinatorial problems can be represented as models.\n",
        "- Hands-on Exercises (~2 hours): Practice modelling problems using CPMpy through a series of guided exercises. -->\n",
        "\n",
        "<strong>Useful Resources:</strong>\n",
        "\n",
        "- CPMpy documentation: https://cpmpy.readthedocs.io/en/latest/index.html\n",
        "- CPMpy quickstart: https://cpmpy.readthedocs.io/en/latest/modeling.html\n"
      ]
    },
    {
      "cell_type": "markdown",
      "metadata": {
        "id": "VopstlxXz0pW"
      },
      "source": [
        "### **Part 1: Short Introduction**\n"
      ]
    },
    {
      "cell_type": "markdown",
      "metadata": {
        "id": "s54dxflc0J5H"
      },
      "source": [
        "#### **What is Constraint Programming (CP)?**\n",
        "\n",
        "Constraint Programming is a **declarative paradigm** for solving **combinatorial problems**. In CP, a problem is modelled by defining:\n",
        "\n",
        "- **Decision Variables**: They represent the solution, as entities that their values need to be determined.\n",
        "- **Domains**: The set of possible values for the decision variables.\n",
        "- **Constraints**: Relationships between variables restricting their possible values.\n",
        "- **Objective (Optional)**: If the problem includes an optimisation objective, we can define an objective to minimize or maximize.\n",
        "\n",
        "CP allows you to focus on **what** needs to be satisfied, without specifying **how** to solve the problem.\n"
      ]
    },
    {
      "cell_type": "markdown",
      "metadata": {
        "id": "Q6lKs2h10X3p"
      },
      "source": [
        "#### **Imperative vs Declarative Programming**\n",
        "\n",
        "To understand the difference between imperative and declarative programming, let's take a simple example:\n",
        "\n",
        "We have two variables `x` and `y`, and we want to find their values such that:\n",
        "\n",
        "- Their sum is equal to 7.\n",
        "- `x` is greater than `y`.\n"
      ]
    },
    {
      "cell_type": "code",
      "execution_count": 2,
      "metadata": {
        "id": "ggNNq5EK1Xk3"
      },
      "outputs": [
        {
          "name": "stdout",
          "output_type": "stream",
          "text": [
            "Imperative Approach: We explicitly assign the variables to specific values: x=0 and y=0\n",
            "... and we explicitly reassign it until we find the solution:\n",
            "\n",
            "Solution found: x = 4, y = 3\n"
          ]
        }
      ],
      "source": [
        "x, y = 0, 0\n",
        "\n",
        "print(\n",
        "    f\"Imperative Approach: We explicitly assign the variables to specific values: x={x} and y={y}\"\n",
        ")\n",
        "\n",
        "print(\"... and we explicitly reassign it until we find the solution:\")\n",
        "found = False\n",
        "for x in range(10):\n",
        "    for y in range(10):\n",
        "        if x + y == 7 and x > y:\n",
        "            print(f\"\\nSolution found: x = {x}, y = {y}\")\n",
        "            found = True\n",
        "            break\n",
        "    if found:\n",
        "        break"
      ]
    },
    {
      "cell_type": "code",
      "execution_count": 3,
      "metadata": {
        "id": "ukBLsSzo10LN"
      },
      "outputs": [
        {
          "name": "stdout",
          "output_type": "stream",
          "text": [
            "Declarative Approach: We define the variables x=IV0 and y=IV1 with their domains.\n",
            "Notice that we don't explicitly set/assign any values to the variables. We simply define their domains (sets of possible values).\n",
            "\n",
            "... and we model the problem declaratively (i.e. we do not specify how to find the correct assignment, but what the correct assignment should satisfy):\n",
            "\n",
            "Constraints:\n",
            "    (IV0) + (IV1) == 7\n",
            "    (IV0) > (IV1)\n",
            "Objective: None\n",
            "\n",
            "... and we solve the problem:\n",
            "\n",
            "Solution: x = 4, y = 3\n"
          ]
        }
      ],
      "source": [
        "x, y = cp.intvar(0, 10, shape=2)\n",
        "\n",
        "print(f\"Declarative Approach: We define the variables x={x} and y={y} with their domains.\")\n",
        "print(\n",
        "    \"Notice that we don't explicitly set/assign any values to the variables. We simply define their domains (sets of possible values).\"\n",
        ")\n",
        "\n",
        "print(\n",
        "    \"\\n... and we model the problem declaratively (i.e. we do not specify how to find the correct assignment, but what the correct assignment should satisfy):\\n\"\n",
        ")\n",
        "\n",
        "model = cp.Model([\n",
        "    x + y == 7,  # Their sum is 7\n",
        "    x > y,  # x is greater than y\n",
        "])\n",
        "\n",
        "print(model)\n",
        "\n",
        "print(\"\\n... and we solve the problem:\\n\")\n",
        "model.solve()\n",
        "\n",
        "print(f\"Solution: x = {x.value()}, y = {y.value()}\")"
      ]
    },
    {
      "cell_type": "markdown",
      "metadata": {
        "id": "R4rvyRqo02w5"
      },
      "source": [
        "#### **What is CPMpy?**\n",
        "\n",
        "CPMpy is a Constraint Programming library in Python, for **modelling** and **solving** combinatorial problems.\n",
        "\n",
        "**Basic Model Structure**:\n",
        "\n",
        "1. **Decision Variables**: Defined with `intvar()` for integers or `boolvar()` for booleans.\n",
        "2. **Constraints**: Applied on variables using comparison operators (`==`, `!=`, `<`, `<=`, etc.) or [global constraints](https://cpmpy.readthedocs.io/en/latest/modeling.html#global-constraints) like `AllDifferent`.\n",
        "3. **Solving**: Use `solve()` to find a solution.\n"
      ]
    },
    {
      "cell_type": "markdown",
      "metadata": {
        "id": "6pSp6Cbbsrkb"
      },
      "source": [
        "#### **A Practical Example**\n",
        "\n",
        "We need to solve a Sudoku puzzle. The goal of Sudoku is to fill a 9x9 grid with numbers so that each row, column and 3x3 section contain all the digits\n",
        "between 1 and 9.\n",
        "The given unsolved grid is the following:\n",
        "\n",
        "```python\n",
        "[\n",
        "    [0, 0, 0,  2, 0, 5,  0, 0, 0],\n",
        "    [0, 9, 0,  0, 0, 0,  7, 3, 0],\n",
        "    [0, 0, 2,  0, 0, 9,  0, 6, 0],\n",
        "\n",
        "    [2, 0, 0,  0, 0, 0,  4, 0, 9],\n",
        "    [0, 0, 0,  0, 7, 0,  0, 0, 0],\n",
        "    [6, 0, 9,  0, 0, 0,  0, 0, 1],\n",
        "\n",
        "    [0, 8, 0,  4, 0, 0,  1, 0, 0],\n",
        "    [0, 6, 3,  0, 0, 0,  0, 8, 0],\n",
        "    [0, 0, 0,  6, 0, 8,  0, 0, 0]\n",
        "]\n",
        "```\n",
        "\n",
        "The goal is to replace the 0s with acceptable numbers. How to obtain a solution?\n"
      ]
    },
    {
      "cell_type": "code",
      "execution_count": 4,
      "metadata": {
        "id": "n1PoEUaK1qJn"
      },
      "outputs": [
        {
          "name": "stdout",
          "output_type": "stream",
          "text": [
            "[[3 7 8 2 6 5 9 1 4]\n",
            " [5 9 6 8 1 4 7 3 2]\n",
            " [1 4 2 7 3 9 5 6 8]\n",
            " [2 1 7 3 8 6 4 5 9]\n",
            " [8 5 4 9 7 1 6 2 3]\n",
            " [6 3 9 5 4 2 8 7 1]\n",
            " [7 8 5 4 2 3 1 9 6]\n",
            " [4 6 3 1 9 7 2 8 5]\n",
            " [9 2 1 6 5 8 3 4 7]]\n"
          ]
        }
      ],
      "source": [
        "# Data\n",
        "input_grid = [  # 0 represents empty cells\n",
        "    [0, 0, 0, 2, 0, 5, 0, 0, 0],\n",
        "    [0, 9, 0, 0, 0, 0, 7, 3, 0],\n",
        "    [0, 0, 2, 0, 0, 9, 0, 6, 0],\n",
        "    [2, 0, 0, 0, 0, 0, 4, 0, 9],\n",
        "    [0, 0, 0, 0, 7, 0, 0, 0, 0],\n",
        "    [6, 0, 9, 0, 0, 0, 0, 0, 1],\n",
        "    [0, 8, 0, 4, 0, 0, 1, 0, 0],\n",
        "    [0, 6, 3, 0, 0, 0, 0, 8, 0],\n",
        "    [0, 0, 0, 6, 0, 8, 0, 0, 0],\n",
        "]\n",
        "given = np.array(input_grid)\n",
        "\n",
        "# Decision Variables\n",
        "grid = cp.intvar(1, 9, shape=given.shape)  # Each cell can have a value between 1 and 9\n",
        "\n",
        "# Model\n",
        "model = cp.Model()\n",
        "\n",
        "# Ensure cells with non-zero numbers in the initial setup won't be changed during the solving process.\n",
        "model += grid[given != 0] == given[given != 0]  # numpy indexing\n",
        "\n",
        "# No duplicate number in a row, for all rows\n",
        "model += [cp.AllDifferent(row) for row in grid]\n",
        "# No duplicate number in a column, for all columns\n",
        "model += [cp.AllDifferent(col) for col in grid.T]  # numpy transpose\n",
        "\n",
        "# No duplicate number in a block, for all blocks\n",
        "for i in range(0, 9, 3):\n",
        "    for j in range(0, 9, 3):\n",
        "        model += cp.AllDifferent(grid[i : i + 3, j : j + 3])\n",
        "\n",
        "# For block constraints: Alternative way with list comprehension\n",
        "model += [\n",
        "    cp.AllDifferent(grid[i : i + 3, j : j + 3])\n",
        "    for i in range(0, 9, 3)\n",
        "    for j in range(0, 9, 3)\n",
        "]\n",
        "\n",
        "# Solve\n",
        "model.solve()\n",
        "\n",
        "# Print solution\n",
        "print(grid.value())"
      ]
    },
    {
      "cell_type": "markdown",
      "metadata": {
        "id": "4DTL7joVvEPY"
      },
      "source": [
        "### **Part 2: Exercises**\n"
      ]
    },
    {
      "cell_type": "markdown",
      "metadata": {
        "id": "eF9-JSORo7iP"
      },
      "source": [
        "#### **1. Five Floors Problem**\n",
        "\n",
        "Baker, Cooper, Fletcher, Miller, and Smith live on the first five floors of an apartment house.\n",
        "Baker does not live on the fifth floor.\n",
        "Cooper does not live on the first floor.\n",
        "Fletcher does not live on either the fifth or the first floor.\n",
        "Miller lives on a higher floor than does Cooper.\n",
        "Smith does not live on a floor adjacent to Fletcher's.\n",
        "Fletcher does not live on a floor adjacent to Cooper's.\n",
        "They all live on different floors.\n",
        "Find the floors where these people live.\n"
      ]
    },
    {
      "cell_type": "code",
      "execution_count": 5,
      "metadata": {
        "id": "nc5oUhIYoaup"
      },
      "outputs": [
        {
          "name": "stdout",
          "output_type": "stream",
          "text": [
            "Baker lives on floor 3\n",
            "Cooper lives on floor 2\n",
            "Fletcher lives on floor 4\n",
            "Miller lives on floor 5\n",
            "Smith lives on floor 1\n"
          ]
        }
      ],
      "source": [
        "\"\"\"\n",
        "TODO: Fill in the lower and upper bounds of the decision variables.\n",
        "\n",
        "Hints:\n",
        "- What are the possible values for each variable?\n",
        "- Which are the possible floors for each person?\n",
        "\n",
        "https://cpmpy.readthedocs.io/en/latest/modeling.html#decision-variables\n",
        "\"\"\"\n",
        "lb = 1  # lower bound\n",
        "ub = 5  # upper bound\n",
        "\n",
        "# Decision Variables\n",
        "B = cp.intvar(lb, ub)  # Baker\n",
        "C = cp.intvar(lb, ub)  # Cooper\n",
        "F = cp.intvar(lb, ub)  # Fletcher\n",
        "M = cp.intvar(lb, ub)  # Miller\n",
        "S = cp.intvar(lb, ub)  # Smith\n",
        "\n",
        "# Since all the decision variables have the same domain, we can also use a more convenient way to define them:\n",
        "B, C, F, M, S = floors = cp.intvar(lb, ub, shape=5)\n",
        "\n",
        "# Model\n",
        "model = cp.Model()\n",
        "\n",
        "# Constraints\n",
        "\"\"\"\n",
        "TODO: Fill in the constraints according to the problem description.\n",
        "\n",
        "Hints:\n",
        "1. https://cpmpy.readthedocs.io/en/latest/modeling.html#logical-constraints\n",
        "2. https://cpmpy.readthedocs.io/en/latest/modeling.html#simple-comparison-constraints\n",
        "3. https://cpmpy.readthedocs.io/en/latest/modeling.html#arithmetic-constraints\n",
        "4. https://cpmpy.readthedocs.io/en/latest/modeling.html#global-constraints\n",
        "\"\"\"\n",
        "model += B != 5  # Baker does not live on the fifth floor\n",
        "model += C != 1  # Cooper does not live on the first floor\n",
        "model += (F != 1) & (\n",
        "    F != 5\n",
        ")  # Fletcher does not live on either the fifth or the first floor\n",
        "model += M > C  # Miller lives on a higher floor than does Cooper\n",
        "model += abs(S - F) > 1  # Smith does not live on a floor adjacent to Fletcher\n",
        "model += abs(F - C) > 1  # Fletcher does not live on a floor adjacent to Cooper\n",
        "model += cp.AllDifferent(B, C, F, M, S)  # They all live on different floors\n",
        "\n",
        "# Solve\n",
        "model.solve()\n",
        "\n",
        "# Print solution\n",
        "print(f\"Baker lives on floor {B.value()}\")\n",
        "print(f\"Cooper lives on floor {C.value()}\")\n",
        "print(f\"Fletcher lives on floor {F.value()}\")\n",
        "print(f\"Miller lives on floor {M.value()}\")\n",
        "print(f\"Smith lives on floor {S.value()}\")"
      ]
    },
    {
      "cell_type": "markdown",
      "metadata": {
        "id": "xq0mWaKQ2E-y"
      },
      "source": [
        "#### **2. Bank Card**\n",
        "\n",
        "My bank card has a 4 digit PIN, abcd. I use the following facts to help me remember it:\n",
        "\n",
        "- no two digits are the same\n",
        "- the 2-digit number cd is 3 times the 2-digit number ab\n",
        "- the 2-digit number da is 2 times the 2-digit number bc\n",
        "\n",
        "What is my PIN?\n"
      ]
    },
    {
      "cell_type": "code",
      "execution_count": 6,
      "metadata": {
        "id": "67fUjx6F3SAL"
      },
      "outputs": [
        {
          "name": "stdout",
          "output_type": "stream",
          "text": [
            "PIN: 2163\n"
          ]
        }
      ],
      "source": [
        "\"\"\"\n",
        "TODO: Fill in the lower and upper bound of each digit.\n",
        "What are the possible values (domain) of each digit?\n",
        "\"\"\"\n",
        "lb, ub = 0, 9  # lower bound and upper bound\n",
        "\n",
        "# Decision Variables\n",
        "a, b, c, d = digits = cp.intvar(lb, ub, shape=4)  # The four digits of the PIN\n",
        "\n",
        "# Model\n",
        "model = cp.Model()\n",
        "\n",
        "# Constraints\n",
        "\"\"\"\n",
        "TODO: Fill in the constraints according to the problem description.\n",
        "\"\"\"\n",
        "model += cp.AllDifferent(a, b, c, d)  # no two digits are the same\n",
        "model += (10 * c + d) == 3 * (10 * a + b)  # cd is 3 times ab\n",
        "model += (10 * d + a) == 2 * (10 * b + c)  # da is 2 times bc\n",
        "\n",
        "# Solve\n",
        "model.solve()\n",
        "\n",
        "# Print solution\n",
        "print(f\"PIN: {a.value()}{b.value()}{c.value()}{d.value()}\")"
      ]
    },
    {
      "cell_type": "markdown",
      "metadata": {
        "id": "HvOVGuFqDSR1"
      },
      "source": [
        "#### **3. Coin Change**\n",
        "\n",
        "Alice needs to give Bob exactly 1.99 euros in change. She has six different types of coins with the following values: 1, 2, 5, 10, 25, and 50 cents. However, she only has a limited number of each coin type: 20 coins of 1 cent, 10 coins of 2 cents, 15 coins of 5 cents, 8 coins of 10 cents, 4 coins of 25 cents, and 2 coins of 50 cents.\n",
        "\n",
        "How can Alice give Bob the exact change using the **fewest number of coins possible** while respecting the availability of each coin type?\n"
      ]
    },
    {
      "cell_type": "code",
      "execution_count": 7,
      "metadata": {
        "id": "6OPfImfQDiEV"
      },
      "outputs": [
        {
          "name": "stdout",
          "output_type": "stream",
          "text": [
            "Coins used:\n",
            "0 coin(s) of 1 cents\n",
            "2 coin(s) of 2 cents\n",
            "0 coin(s) of 5 cents\n",
            "2 coin(s) of 10 cents\n",
            "3 coin(s) of 25 cents\n",
            "2 coin(s) of 50 cents\n",
            "Total coins used: 9\n",
            "Total amount: 199 cents\n"
          ]
        }
      ],
      "source": [
        "# Parameters of the problem\n",
        "amount = 199  # in cents\n",
        "coin_types = [1, 2, 5, 10, 25, 50]\n",
        "available_coins = [20, 10, 15, 8, 4, 2]\n",
        "\n",
        "# Decision Variables\n",
        "coins = cp.intvar(0, max(available_coins), shape=len(coin_types))\n",
        "\n",
        "# Model\n",
        "model = cp.Model()\n",
        "\n",
        "# Constraints\n",
        "model += cp.sum(coins[i] * coin_types[i] for i in range(len(coin_types))) == amount\n",
        "for i in range(len(coin_types)):\n",
        "    model += coins[i] <= available_coins[i]\n",
        "\n",
        "# Objective: Minimize the number of coins\n",
        "model.minimize(cp.sum(coins))\n",
        "\n",
        "# Solve\n",
        "model.solve()\n",
        "\n",
        "# Print solution\n",
        "print(\"Coins used:\")\n",
        "for i, coin in enumerate(coin_types):\n",
        "    print(f\"{coins[i].value()} coin(s) of {coin} cents\")\n",
        "print(f\"Total coins used: {sum(coins[i].value() for i in range(len(coin_types)))}\")\n",
        "print(\n",
        "    f\"Total amount: {sum(coins[i].value() * coin_types[i] for i in range(len(coin_types)))} cents\"\n",
        ")"
      ]
    },
    {
      "cell_type": "markdown",
      "metadata": {
        "id": "uF9JlRVw5mae"
      },
      "source": [
        "#### **4. Magic Square**\n",
        "\n",
        "A magic square is an $n \\times n$ grid such that each cell contains a different integer from 1 to $n^2$ and the sum of the integers in each row, column and diagonal is equal.\n",
        "Find a magic square for any size $n$, knowing that the sum of each row, column and diagonal has to be equal to $n(n^2 + 1)/2$ (an integer: div\n",
        "operator). Remember there is no magic square for size 2.\n"
      ]
    },
    {
      "cell_type": "markdown",
      "metadata": {
        "id": "2wGkkey2en4a"
      },
      "source": [
        "<details>\n",
        "  <summary>Click to reveal hint</summary>\n",
        "  \n",
        "```python\n",
        "\"\"\"\n",
        "An example to show how to use indexing for diagonals in matrices.\n",
        "\n",
        "Suppose that we have a grid of integers, and we require every number in the main\n",
        "diagonal to be different, and also every number in the secondary diagonal to be\n",
        "different.\n",
        "\"\"\"\n",
        "\n",
        "# Parameters\n",
        "\n",
        "n = 50\n",
        "\n",
        "# Decision Variables\n",
        "\n",
        "grid = cp.intvar(0, n, shape=(n, n))\n",
        "\n",
        "# Constraints\n",
        "\n",
        "model = cp.Model()\n",
        "\n",
        "model += cp.AllDifferent(grid[i, i] for i in range(n)) # Every number in the main diagonal is different\n",
        "model += cp.AllDifferent(grid[i, n - 1 - i] for i in range(50)) # Every number in the secondary diagonal is different\n",
        "\n",
        "# Solve\n",
        "\n",
        "model.solve()\n",
        "\n",
        "```\n",
        "\n",
        "</details>\n",
        "```\n"
      ]
    },
    {
      "cell_type": "code",
      "execution_count": 8,
      "metadata": {
        "id": "aJfOEvkR5maj"
      },
      "outputs": [
        {
          "name": "stdout",
          "output_type": "stream",
          "text": [
            "Magic Square:\n",
            " 10   1  20  12  22\n",
            " 16  17  13  14   5\n",
            " 19  23   6   8   9\n",
            " 18  21  15   7   4\n",
            "  2   3  11  24  25\n",
            "\n",
            "Magic Sum: 65\n"
          ]
        }
      ],
      "source": [
        "def magic_square(n: int) -> None:\n",
        "    assert n != 2, \"Magic square is not defined for size 2\"\n",
        "\n",
        "    \"\"\"\n",
        "    TODO: define the magic sum as a function of n.\n",
        "    Use // operator to get the integer part of a division (div operator).\n",
        "    \"\"\"\n",
        "    magic_sum = n * (n**2 + 1) // 2  # sum of each row, column and diagonal\n",
        "\n",
        "    # Decision Variables - TODO\n",
        "    grid = cp.intvar(1, n**2, shape=(n, n))\n",
        "\n",
        "    # Model\n",
        "    model = cp.Model()\n",
        "\n",
        "    # Constraints\n",
        "\n",
        "    \"\"\"\n",
        "    TODO: Fill in the constraints according to the problem description.\n",
        "\n",
        "    Hints:\n",
        "    1. https://cpmpy.readthedocs.io/en/latest/api/expressions/globalconstraints.html#cpmpy.expressions.globalconstraints.AllDifferent\n",
        "    2. https://cpmpy.readthedocs.io/en/latest/api/expressions/python_builtins.html#cpmpy.expressions.python_builtins.sum\n",
        "    \"\"\"\n",
        "\n",
        "    # All numbers in the magic square must be different\n",
        "    model += cp.AllDifferent(grid)\n",
        "\n",
        "    # The sum of the numbers in each row must be equal to the magic sum\n",
        "    model += [cp.sum(row) == magic_sum for row in grid]\n",
        "\n",
        "    # The sum of the numbers in each column must be equal to the magic sum\n",
        "    model += [cp.sum(col) == magic_sum for col in grid.T]\n",
        "\n",
        "    # The sum of the numbers in the main diagonal must be equal to the magic sum\n",
        "    model += cp.sum(grid[i, i] for i in range(n)) == magic_sum\n",
        "\n",
        "    # The sum of the numbers in the other diagonal must be equal to the magic sum\n",
        "    model += cp.sum(grid[i, n - i - 1] for i in range(n)) == magic_sum\n",
        "\n",
        "    # Solve\n",
        "    model.solve()\n",
        "\n",
        "    # Print solution - TODO\n",
        "    print(\"Magic Square:\")\n",
        "    for row in grid.value():\n",
        "        print(\" \".join(f\"{num:3d}\" for num in row))\n",
        "    print(f\"\\nMagic Sum: {magic_sum}\")\n",
        "\n",
        "\n",
        "# Test\n",
        "magic_square(5)"
      ]
    },
    {
      "cell_type": "markdown",
      "metadata": {
        "id": "4YekhckEdFdr"
      },
      "source": [
        "#### **5. Movie Scheduling**:\n",
        "\n",
        "Consider the following scheduling problem. Imagine you are a highly-in-\n",
        "demand actor, who has been presented with offers to star in n different movie\n",
        "projects under development. Each offer comes specified with the first and last day of filming. To take the job, you must commit to being available throughout this entire period. Thus, you cannot simultaneously accept two jobs whose intervals overlap.\n",
        "For an artist such as yourself, the criteria for job acceptance is clear: you want to make as much money as possible. Because each of these films pays the same fee per film, this implies you seek the largest possible set of jobs (intervals) such that no two of them conflict with each other.\n",
        "\n",
        "Here is the list of movies along with their first and last day of filming:\n",
        "\n",
        "```\n",
        "movies = [  # title, start, end\n",
        "    [\"Tarjan of the Jungle\", 4, 13],\n",
        "    [\"The Four Volume Problem\", 17, 27],\n",
        "    [\"The President's Algorist\", 1, 10],\n",
        "    [\"Steiner's Tree\", 12, 18],\n",
        "    [\"Process Terminated\", 23, 30],\n",
        "    [\"Halting State\", 9, 16],\n",
        "    [\"Programming Challenges\", 19, 25],\n",
        "    [\"Discrete Mathematics\", 2, 7],\n",
        "    [\"Calculated Bets\", 26, 31]\n",
        "]\n",
        "```\n",
        "\n",
        "Which movies would you choose to maximize your income?\n"
      ]
    },
    {
      "cell_type": "code",
      "execution_count": 9,
      "metadata": {
        "id": "t0s67RLmdIlx"
      },
      "outputs": [
        {
          "name": "stdout",
          "output_type": "stream",
          "text": [
            "Selected movies:\n",
            "- Discrete Mathematics (Days 2-7)\n",
            "- Halting State (Days 9-16)\n",
            "- Programming Challenges (Days 19-25)\n",
            "- Calculated Bets (Days 26-31)\n",
            "Income: 4\n"
          ]
        }
      ],
      "source": [
        "movies = [  # title, start, end\n",
        "    [\"Tarjan of the Jungle\", 4, 13],\n",
        "    [\"The Four Volume Problem\", 17, 27],\n",
        "    [\"The President's Algorist\", 1, 10],\n",
        "    [\"Steiner's Tree\", 12, 18],\n",
        "    [\"Process Terminated\", 23, 30],\n",
        "    [\"Halting State\", 9, 16],\n",
        "    [\"Programming Challenges\", 19, 25],\n",
        "    [\"Discrete Mathematics\", 2, 7],\n",
        "    [\"Calculated Bets\", 26, 31],\n",
        "]\n",
        "\n",
        "# Decision Variables - TODO\n",
        "selected = cp.boolvar(shape=len(movies))\n",
        "income = cp.intvar(0, len(movies))\n",
        "\n",
        "# Model\n",
        "model = cp.Model()\n",
        "\n",
        "# Constraints - TODO\n",
        "for i in range(len(movies)):\n",
        "    for j in range(i + 1, len(movies)):\n",
        "        if movies[i][1] < movies[j][2] and movies[i][2] > movies[j][1]:\n",
        "            model += ~(selected[i] & selected[j])  # overlap\n",
        "\n",
        "# Set income to be the sum of selected movies\n",
        "model += income == cp.sum(selected)\n",
        "\n",
        "# Objective - TODO\n",
        "model.maximize(income)\n",
        "\n",
        "# Solve\n",
        "model.solve()\n",
        "\n",
        "# Print solution - TODO\n",
        "print(\"Selected movies:\")\n",
        "for i, movie in enumerate(sorted(movies, key=lambda x: x[1])):\n",
        "    if selected[movies.index(movie)].value():\n",
        "        print(f\"- {movie[0]} (Days {movie[1]}-{movie[2]})\")\n",
        "print(f\"Income: {income.value()}\")"
      ]
    },
    {
      "cell_type": "markdown",
      "metadata": {
        "id": "omVSO5gYAkM3"
      },
      "source": [
        "#### **6. Robbery**\n",
        "\n",
        "Following a robbery, an inspector interviewed six suspects. The getaway car had been barely big enough to hold two, so she reckoned that at least four of them were innocent. She also supposed that the innocent ones would tell the truth, while the guilty one or ones would lie. What they actually said was:\n",
        "\n",
        "- ARTIE: \"It wasn't me.\"\n",
        "- BILL: \"Crackitt was in it up to his neck.\"\n",
        "- CRACKITT: \"No I wasn't.\"\n",
        "- DODGY: \"If Crackitt did it, Bill did it with him.\"\n",
        "- EDGY: \"Nobody did it alone.\"\n",
        "- FINGERS: \"It was Artie and Dodgy together.\"\n",
        "\n",
        "Who is guilty?\n"
      ]
    },
    {
      "cell_type": "markdown",
      "metadata": {
        "id": "qSa_3_2nl7MH"
      },
      "source": [
        "<details>\n",
        "  <summary>Click to reveal hint</summary>\n",
        "\n",
        "**Logic Truth Table:**\n",
        "\n",
        "| p     | q     | ¬p    | p ∧ q | p ∨ q | p → q | p ↔ q |\n",
        "| ----- | ----- | ----- | ----- | ----- | ----- | ----- |\n",
        "| True  | True  | False | True  | True  | True  | True  |\n",
        "| True  | False | False | False | True  | False | False |\n",
        "| False | True  | True  | False | True  | True  | False |\n",
        "| False | False | True  | False | False | True  | True  |\n",
        "\n",
        "**Explanation of Symbols:**\n",
        "\n",
        "- ¬p: Negation (NOT p)\n",
        "- p ∧ q: Conjunction (AND)\n",
        "- p ∨ q: Disjunction (OR)\n",
        "- p → q: Implication (If p then q)\n",
        "- p ↔ q: Biconditional (p if and only if q)\n",
        "\n",
        "</details>\n"
      ]
    },
    {
      "cell_type": "code",
      "execution_count": 10,
      "metadata": {
        "id": "7cd5OMDL8IH8"
      },
      "outputs": [
        {
          "name": "stdout",
          "output_type": "stream",
          "text": [
            "Guilty: ['Bill', 'Fingers']\n"
          ]
        }
      ],
      "source": [
        "# Decision Variables - TODO\n",
        "A, B, C, D, E, F = cp.boolvar(shape=6, name=\"guilty\")\n",
        "\n",
        "# Model\n",
        "model = cp.Model()\n",
        "\n",
        "# Constraints - TODO\n",
        "guilty_total = cp.sum((A, B, C, D, E, F))\n",
        "model += guilty_total <= 2\n",
        "model += (\n",
        "    (~A | A)  # Artie\n",
        "    & (C | B)  # Bill\n",
        "    & (~C | C)  # Crackitt\n",
        "    & (C.implies(B) | D)  # Dodgy\n",
        "    & ((guilty_total > 1) | E)  # Edgy\n",
        "    & ((A & D) | F)  # Fingers\n",
        ")\n",
        "\n",
        "# Solve\n",
        "model.solve()\n",
        "\n",
        "# Print solution - TODO\n",
        "print(\"Guilty:\", [name for name, var in zip([\"Artie\", \"Bill\", \"Crackitt\", \"Dodgy\", \"Edgy\", \"Fingers\"],\n",
        "                                            [A, B, C, D, E, F])\n",
        "                  if var.value()])"
      ]
    },
    {
      "cell_type": "markdown",
      "metadata": {
        "id": "k3Ti4nFtZ54z"
      },
      "source": [
        "#### **Extra Exercises**\n",
        "\n",
        "> The following exercises are **extra practice** problems. They will **not be covered** during the regular exercise sessions. However, they offer a great opportunity to practice more. You are encouraged to try them at home to challenge yourself further!\n"
      ]
    },
    {
      "cell_type": "markdown",
      "metadata": {
        "id": "jtZTwRk_U_jf"
      },
      "source": [
        "##### **Extra 1: Send More Money**\n",
        "\n",
        "The \"Send More Money\" puzzle is a classic cryptarithmetic problem where each letter represents a unique digit. The goal is to assign digits to the letters such that the following equation holds true:\n",
        "\n",
        "```\n",
        "   SEND\n",
        " + MORE\n",
        " ------\n",
        "  MONEY\n",
        "```\n",
        "\n",
        "Each letter must be assigned a unique digit from 0 to 9, and the first letter of each word cannot be zero. What is the digit assigned to each letter?\n"
      ]
    },
    {
      "cell_type": "code",
      "execution_count": 11,
      "metadata": {
        "id": "7XWszW91U_Ll"
      },
      "outputs": [
        {
          "name": "stdout",
          "output_type": "stream",
          "text": [
            "S=9, E=5, N=6, D=7, M=1, O=0, R=8, Y=2\n",
            "\n",
            "  9567\n",
            "+ 1085\n",
            "------\n",
            " 10652\n"
          ]
        }
      ],
      "source": [
        "# Decision Variables - TODO\n",
        "S, E, N, D, M, O, R, Y = cp.intvar(0, 9, shape=8)\n",
        "\n",
        "# Model\n",
        "model = cp.Model()\n",
        "\n",
        "# Constraints - TODO\n",
        "model += cp.AllDifferent(S, E, N, D, M, O, R, Y)\n",
        "model += S > 0\n",
        "model += M > 0\n",
        "\n",
        "\n",
        "# The summation constraint\n",
        "def additionfn(*letter) -> int:\n",
        "    return sum(10**i * letter for i, letter in enumerate(reversed(letter)))\n",
        "\n",
        "\n",
        "model += additionfn(S, E, N, D) + additionfn(M, O, R, E) == additionfn(M, O, N, E, Y)\n",
        "\n",
        "# Solve\n",
        "model.solve()\n",
        "\n",
        "# Print solution - TODO\n",
        "print(\n",
        "    f\"S={S.value()}, E={E.value()}, N={N.value()}, D={D.value()}, M={M.value()}, O={O.value()}, R={R.value()}, Y={Y.value()}\"\n",
        ")\n",
        "print()\n",
        "print(f\"  {S.value()}{E.value()}{N.value()}{D.value()}\")\n",
        "print(f\"+ {M.value()}{O.value()}{R.value()}{E.value()}\")\n",
        "print(\"------\")\n",
        "print(f\" {M.value()}{O.value()}{N.value()}{E.value()}{Y.value()}\")"
      ]
    },
    {
      "cell_type": "markdown",
      "metadata": {
        "id": "GW2GNlpDTlTK"
      },
      "source": [
        "##### **Extra 2: Minesweeper**\n",
        "\n",
        "Numbers and mines are randomly distributed in a given board.\n",
        "The number on a cell shows the exact number of mines around this cell in all 8 directions: top, top-right, right, bottom-right, bottom, bottom-left, left, top-left.\n",
        "\n",
        "The task is to determine which cells contain mines, the initial board is given below.\n"
      ]
    },
    {
      "cell_type": "markdown",
      "metadata": {
        "id": "7AYiTeJaOWDN"
      },
      "source": [
        "<details>\n",
        "  <summary>Click to reveal hint</summary>\n",
        "\n",
        "```python\n",
        "\"\"\"\n",
        "An example to show how to find neighbors (top, right, bottom, left) of a cell in a grid.\n",
        "\"\"\"\n",
        "\n",
        "n = 4  # 4x4 grid\n",
        "grid = cp.boolvar(shape=(n, n))\n",
        "\n",
        "model = cp.Model()\n",
        "\n",
        "for i in range(n):\n",
        "    for j in range(n):\n",
        "        # Collect neighbors for each cell\n",
        "        neighbors = []\n",
        "        for a, b in [(0, 1), (0, -1), (1, 0), (-1, 0)]:\n",
        "            if 0 <= i + a < n and 0 <= j + b < n:\n",
        "                neighbors.append(grid[i + a, j + b])\n",
        "\n",
        "        print(f\"Neighbors of cell {grid[i, j]}: {neighbors}\")\n",
        "\n",
        "print(\"The grid:\")\n",
        "print(grid)\n",
        "```\n",
        "\n",
        "</details>\n"
      ]
    },
    {
      "cell_type": "code",
      "execution_count": 12,
      "metadata": {
        "id": "S1XzA3lHYnAO"
      },
      "outputs": [
        {
          "name": "stdout",
          "output_type": "stream",
          "text": [
            "Mine locations (1 indicates a mine):\n",
            "[[1 1 0 0 0 0 0 0]\n",
            " [1 0 1 1 0 1 1 0]\n",
            " [1 0 1 1 1 1 1 0]\n",
            " [1 0 0 1 1 1 0 0]\n",
            " [0 1 1 1 0 0 1 0]\n",
            " [0 0 0 0 1 0 1 0]\n",
            " [0 0 1 0 0 1 1 1]\n",
            " [0 0 0 1 1 0 0 1]]\n",
            "\n",
            "Game:\n",
            "[[ 2  3 -1  2  2 -1  2  1]\n",
            " [-1 -1  4 -1 -1  4 -1  2]\n",
            " [-1 -1 -1 -1 -1 -1  4 -1]\n",
            " [-1  5 -1  6 -1 -1 -1  2]\n",
            " [ 2 -1 -1 -1  5  5 -1  2]\n",
            " [ 1  3  4 -1 -1 -1  4 -1]\n",
            " [ 0  1 -1  4 -1 -1 -1  3]\n",
            " [ 0  1  2 -1  2  3 -1  2]]\n"
          ]
        }
      ],
      "source": [
        "# Data\n",
        "X = -1\n",
        "game = np.array(\n",
        "    [  # 0-8: number of mines around, -1: not opened\n",
        "        [2, 3, X, 2, 2, X, 2, 1],\n",
        "        [X, X, 4, X, X, 4, X, 2],\n",
        "        [X, X, X, X, X, X, 4, X],\n",
        "        [X, 5, X, 6, X, X, X, 2],\n",
        "        [2, X, X, X, 5, 5, X, 2],\n",
        "        [1, 3, 4, X, X, X, 4, X],\n",
        "        [0, 1, X, 4, X, X, X, 3],\n",
        "        [0, 1, 2, X, 2, 3, X, 2],\n",
        "    ]\n",
        ")\n",
        "\n",
        "\n",
        "# Decision Variables - TODO\n",
        "n = 8  # 8x8 grid\n",
        "grid = cp.boolvar(shape=(n, n))\n",
        "\n",
        "# Model\n",
        "model = cp.Model()\n",
        "\n",
        "# Constraints - TODO\n",
        "coords = [(-1, -1), (-1, 0), (-1, 1), (0, -1), (0, 1), (1, -1), (1, 0), (1, 1)]\n",
        "for i in range(n):\n",
        "    for j in range(n):\n",
        "        if game[i, j] != X:\n",
        "            model += (\n",
        "                cp.sum(\n",
        "                    grid[i + a, j + b]\n",
        "                    for a, b in coords\n",
        "                    if 0 <= i + a < n and 0 <= j + b < n\n",
        "                )\n",
        "                == game[i, j]\n",
        "            )\n",
        "\n",
        "# Solve\n",
        "model.solve()\n",
        "\n",
        "# Print solution - TODO\n",
        "print(\"Mine locations (1 indicates a mine):\")\n",
        "print(np.array([[int(grid[i, j].value()) for j in range(n)] for i in range(n)]))\n",
        "\n",
        "print()\n",
        "print(\"Game:\")\n",
        "print(game)"
      ]
    }
  ],
  "metadata": {
    "colab": {
      "collapsed_sections": [
        "VopstlxXz0pW",
        "4DTL7joVvEPY",
        "k3Ti4nFtZ54z",
        "jtZTwRk_U_jf",
        "GW2GNlpDTlTK"
      ],
      "provenance": [],
      "toc_visible": true
    },
    "kernelspec": {
      "display_name": "Python 3",
      "name": "python3"
    },
    "language_info": {
      "codemirror_mode": {
        "name": "ipython",
        "version": 3
      },
      "file_extension": ".py",
      "mimetype": "text/x-python",
      "name": "python",
      "nbconvert_exporter": "python",
      "pygments_lexer": "ipython3",
      "version": "3.11.9"
    }
  },
  "nbformat": 4,
  "nbformat_minor": 0
}
