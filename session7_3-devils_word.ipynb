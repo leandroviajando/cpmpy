{
 "cells": [
  {
   "cell_type": "markdown",
   "metadata": {},
   "source": [
    "# Additional Modelling Challenges\n",
    "\n",
    "## Devil's Word\n",
    "\n",
    "Given an array of integers, insert `+` or `-` operators before each integer in the array so that summing them up gives 666."
   ]
  },
  {
   "cell_type": "code",
   "execution_count": 1,
   "metadata": {},
   "outputs": [
    {
     "name": "stdout",
     "output_type": "stream",
     "text": [
      "Integers: [8, 7, 4, 3, 5, 4, 8, 3, 5, 6] Sum: 53\n",
      "Solution found!\n",
      "Coeffs.: [-1  1  1  1 -1  1  1  1  1  1] Value: 27\n"
     ]
    }
   ],
   "source": [
    "import cpmpy as cp\n",
    "import random\n",
    "\n",
    "random.seed(0)\n",
    "\n",
    "# Parameters\n",
    "integers = random.choices(range(1, 10), k=10)\n",
    "print(\"Integers:\", integers, \"Sum:\", sum(integers))\n",
    "\n",
    "n_integers = len(integers)\n",
    "target = 27\n",
    "\n",
    "# Decision variables: -, + operators = coefficients of -1, 1\n",
    "coefficients = cp.intvar(-1, 1, shape=n_integers)\n",
    "\n",
    "# Constraints\n",
    "model = cp.Model(\n",
    "    coefficients != 0,\n",
    "    cp.sum(integers[i] * coefficients[i] for i in range(n_integers)) == target,\n",
    ")\n",
    "\n",
    "if model.solve():\n",
    "    print(\"Solution found!\")\n",
    "    print(\"Coeffs.:\", coefficients.value(), \"Value:\", sum(integers[i] * coefficients[i].value() for i in range(n_integers)))\n",
    "else:\n",
    "    print(\"No solution found.\")"
   ]
  }
 ],
 "metadata": {
  "kernelspec": {
   "display_name": ".venv",
   "language": "python",
   "name": "python3"
  },
  "language_info": {
   "codemirror_mode": {
    "name": "ipython",
    "version": 3
   },
   "file_extension": ".py",
   "mimetype": "text/x-python",
   "name": "python",
   "nbconvert_exporter": "python",
   "pygments_lexer": "ipython3",
   "version": "3.11.9"
  }
 },
 "nbformat": 4,
 "nbformat_minor": 2
}
