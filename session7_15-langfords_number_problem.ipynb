{
 "cells": [
  {
   "cell_type": "markdown",
   "metadata": {},
   "source": [
    "# Additional Modelling Challenges\n",
    "\n",
    "## Langford's Number Problem\n",
    "\n",
    "Arrange 2 sets of positive integers `1..k` to a sequence, such that, following the first occurence of an integer `i`, each subsequent occurrence of `i` appears `i+1` indices later than the last.\n",
    "\n",
    "For example, for `k=4`, a solution would be `41312432`."
   ]
  },
  {
   "cell_type": "code",
   "execution_count": 1,
   "metadata": {},
   "outputs": [
    {
     "name": "stdout",
     "output_type": "stream",
     "text": [
      "[2 3 4 2 1 3 1 4]\n",
      "[4 1 3 1 2 4 3 2]\n"
     ]
    },
    {
     "data": {
      "text/plain": [
       "2"
      ]
     },
     "execution_count": 1,
     "metadata": {},
     "output_type": "execute_result"
    }
   ],
   "source": [
    "import cpmpy as cp\n",
    "\n",
    "# Parameters\n",
    "k = 4\n",
    "length = 2 * k\n",
    "numbers = range(1, k + 1)\n",
    "\n",
    "# Decision variables\n",
    "sequence = cp.intvar(1, k, shape=length, name=\"sequence\")\n",
    "\n",
    "model = cp.Model()\n",
    "\n",
    "for i in numbers:\n",
    "    # Auxiliary variable\n",
    "    idx = cp.intvar(0, length - 1, shape=2)\n",
    "\n",
    "    model += sequence[idx[0]] == i\n",
    "    model += sequence[idx[1]] == i\n",
    "\n",
    "    # Constraint\n",
    "    model += idx[1] - idx[0] == i + 1\n",
    "\n",
    "model.solveAll(display=sequence)"
   ]
  }
 ],
 "metadata": {
  "kernelspec": {
   "display_name": ".venv",
   "language": "python",
   "name": "python3"
  },
  "language_info": {
   "codemirror_mode": {
    "name": "ipython",
    "version": 3
   },
   "file_extension": ".py",
   "mimetype": "text/x-python",
   "name": "python",
   "nbconvert_exporter": "python",
   "pygments_lexer": "ipython3",
   "version": "3.11.9"
  }
 },
 "nbformat": 4,
 "nbformat_minor": 2
}
