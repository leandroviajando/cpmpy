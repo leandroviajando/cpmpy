{
 "cells": [
  {
   "cell_type": "markdown",
   "metadata": {},
   "source": [
    "# Additional Modelling Challenges\n",
    "\n",
    "## Cabling Problem\n",
    "\n",
    "There are 8 devices, maybe servers, routers, or similar: A, B, C, D, E, F, G, H.\n",
    "\n",
    "Devices must be placed in a sequence, and the following devices must be connected by 1, 2, 3, or 4 cables:\n",
    "\n",
    "    ```\n",
    "    A <--- 1 cable  ---> H\n",
    "    A <--- 2 cables ---> E\n",
    "    B <--- 4 cables ---> F\n",
    "    C <--- 1 cable  ---> G\n",
    "    C <--- 1 cable  ---> D\n",
    "    C <--- 1 cable  ---> E\n",
    "    D <--- 3 cables ---> H\n",
    "    G <--- 1 cable  ---> H\n",
    "    ```\n",
    "\n",
    "How can we place these 8 devices in such an order to minimise the total cable length?"
   ]
  },
  {
   "cell_type": "code",
   "execution_count": 1,
   "metadata": {},
   "outputs": [
    {
     "name": "stdout",
     "output_type": "stream",
     "text": [
      "Solution found!\n",
      "[5 7 4 1 6 8 3 2]\n",
      "19 m\n"
     ]
    }
   ],
   "source": [
    "import cpmpy as cp\n",
    "\n",
    "# Decision variables\n",
    "A, B, C, D, E, F, G, H = sequence = cp.intvar(1, 8, shape=8, name=\"sequence\")\n",
    "\n",
    "# Constraints\n",
    "model = cp.Model(cp.AllDifferent(sequence))\n",
    "\n",
    "# Objective function\n",
    "total_cable_length = (cp.abs(A - H) * 1\n",
    "                    + cp.abs(A - E) * 2\n",
    "                    + cp.abs(B - F) * 4\n",
    "                    + cp.abs(C - G) * 1\n",
    "                    + cp.abs(C - D) * 1\n",
    "                    + cp.abs(C - E) * 1\n",
    "                    + cp.abs(D - H) * 3\n",
    "                    + cp.abs(G - H) * 1)\n",
    "model.minimize(total_cable_length)\n",
    "\n",
    "if model.solve():\n",
    "    print(\"Solution found!\")\n",
    "    print(sequence.value())\n",
    "    print(total_cable_length.value(),\"m\")\n",
    "else:\n",
    "    print(\"No solution found.\")"
   ]
  }
 ],
 "metadata": {
  "kernelspec": {
   "display_name": ".venv",
   "language": "python",
   "name": "python3"
  },
  "language_info": {
   "codemirror_mode": {
    "name": "ipython",
    "version": 3
   },
   "file_extension": ".py",
   "mimetype": "text/x-python",
   "name": "python",
   "nbconvert_exporter": "python",
   "pygments_lexer": "ipython3",
   "version": "3.11.9"
  }
 },
 "nbformat": 4,
 "nbformat_minor": 2
}
