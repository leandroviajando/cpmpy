{
 "cells": [
  {
   "cell_type": "markdown",
   "metadata": {},
   "source": [
    "# Additional Modelling Challenges\n",
    "\n",
    "## Beer Packs\n",
    "\n",
    "Given a target number of beers, find the closest combination of 7-packs and 13-packs that meets or exceeds the target."
   ]
  },
  {
   "cell_type": "code",
   "execution_count": 1,
   "metadata": {},
   "outputs": [
    {
     "name": "stdout",
     "output_type": "stream",
     "text": [
      "1 * 7 + 6 * 13 = 85\n"
     ]
    }
   ],
   "source": [
    "import cpmpy as cp\n",
    "import math\n",
    "\n",
    "# Parameters\n",
    "target = 81\n",
    "\n",
    "# Decision Variables\n",
    "seven_packs = cp.intvar(0, math.ceil(target / 7), name=\"seven_packs\")\n",
    "thirteen_packs = cp.intvar(0, math.ceil(target / 13), name=\"thirteen_packs\")\n",
    "\n",
    "# Constraints\n",
    "# A combination that meets or exceeds the target.\n",
    "model = cp.Model(seven_packs * 7 + thirteen_packs * 13 >= target)\n",
    "\n",
    "# The closest such combination.\n",
    "model.minimize(seven_packs + thirteen_packs)\n",
    "\n",
    "model.solve()\n",
    "\n",
    "print(f\"{seven_packs.value()} * 7 + {thirteen_packs.value()} * 13 = {seven_packs.value() * 7 + thirteen_packs.value() * 13}\")"
   ]
  }
 ],
 "metadata": {
  "kernelspec": {
   "display_name": ".venv",
   "language": "python",
   "name": "python3"
  },
  "language_info": {
   "codemirror_mode": {
    "name": "ipython",
    "version": 3
   },
   "file_extension": ".py",
   "mimetype": "text/x-python",
   "name": "python",
   "nbconvert_exporter": "python",
   "pygments_lexer": "ipython3",
   "version": "3.11.9"
  }
 },
 "nbformat": 4,
 "nbformat_minor": 2
}
